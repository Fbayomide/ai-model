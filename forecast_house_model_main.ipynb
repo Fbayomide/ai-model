{
  "cells": [
    {
      "cell_type": "code",
      "execution_count": null,
      "metadata": {
        "id": "09_xH0SCp1aF"
      },
      "outputs": [],
      "source": [
        "\n",
        "\n",
        "import requests\n",
        "from bs4 import BeautifulSoup\n",
        "import pandas as pd\n",
        "import re\n",
        "import numpy as np\n",
        "import matplotlib.pyplot as plt\n",
        "import seaborn as sns"
      ]
    },
    {
      "cell_type": "code",
      "execution_count": null,
      "metadata": {
        "id": "RjQP4m83p8Zb"
      },
      "outputs": [],
      "source": [
        "listed_homes = []\n",
        "\n",
        "\n",
        "for i in range(1, 2000):\n",
        "  url= f'https://www.propertypro.ng/property-for-rent/page={i}'\n",
        "  headers ={'user-agent': 'Mozilla/5.0 (Macintosh; Intel Mac OS X 10_15_7) AppleWebKit/537.36 (KHTML, like Gecko) Chrome/112.0.0.0 Safari/537.36'}\n",
        "  res = requests.get(url,headers=headers)\n",
        "\n",
        "  pro_soup = BeautifulSoup(res.content, 'html.parser')\n",
        "  homes = pro_soup.find_all('div', class_='single-room-sale listings-property')\n",
        "  #extract information needed from website\n",
        "\n",
        "  for home in homes:\n",
        "\n",
        "    # extract date\n",
        "    day_ = home.find('h5').get_text(strip=True)\n",
        "    days= []\n",
        "\n",
        "    def extract_days(x):\n",
        "      extract_day = x.split(',')\n",
        "      length_ = len(extract_day)\n",
        "\n",
        "      if length_ < 2:\n",
        "        days.append(extract_day[0])\n",
        "      else:\n",
        "        days.append(extract_day[1])\n",
        "      return days\n",
        "\n",
        "    days = extract_days(day_)\n",
        "    # extract date from days text\n",
        "    for day in days:\n",
        "      # print(day)\n",
        "      ext = re.search(r\"(\\d{2} \\w+ \\d{4})\", day).group(0)\n",
        "\n",
        "\n",
        "\n",
        "    # home description is same tag h4 with location\n",
        "    # description is index 0\n",
        "    tag = home.find_all('h4')\n",
        "    desc = tag[0].get_text()\n",
        "\n",
        "    # location has same tag h4 name with desc\n",
        "    loc = tag[1].get_text(strip=True)\n",
        "\n",
        "\n",
        "    # type of apartment and price is in same h3 tag\n",
        "    # type of apartment\n",
        "    tag_1 = home.find_all('h3')\n",
        "    type_= tag_1[0].get_text()\n",
        "\n",
        "\n",
        "    # price, currency and payment type (year, monthly, sqm)\n",
        "    amount = tag_1[1].get_text()\n",
        "    currency = re.search(r'\\$|₦', amount).group(0)\n",
        "    price = re.search(r'[\\d,]+', amount).group(0)\n",
        "    # payment_type = re.search(r'/\\w+', amount)\n",
        "    # payment= np.nan if payment_type == None else payment_type.group(0).replace('/', '')\n",
        "\n",
        "\n",
        "    # number of bedrooms\n",
        "    span_= home.find_all('span')\n",
        "    num_of_beds = []\n",
        "    result= ''\n",
        "    # print(span_len)\n",
        "    def extract_span(x):\n",
        "      span_len= len(x)\n",
        "\n",
        "      if span_len < 7:\n",
        "         result= span_[2].get_text()\n",
        "      elif span_len == 7:\n",
        "        result = span_[4].get_text()\n",
        "      else:\n",
        "        result = span_[5].get_text()\n",
        "\n",
        "      num_of_beds.append(result)\n",
        "      return result\n",
        "\n",
        "    num_of_bed = extract_span(span_)\n",
        "\n",
        "\n",
        "    # if there is an error here with the first num of beds\n",
        "    # modify code with checking for span length\n",
        "    # if less than 7, the span_ index for beds is in index 3\n",
        "    # span_length = len(span_)\n",
        "\n",
        "    # extract type of furnishing\n",
        "    furnished_ = home.find('div', class_='furnished-btn').find_all('a')\n",
        "    furnished = []\n",
        "    furnishes= []\n",
        "    len_fur = len(furnished_)\n",
        "    [furnished.extend(list_) for list_ in furnished_ if len_fur > 0]\n",
        "    def check_list(lst):\n",
        "      if len(lst) == 0:\n",
        "        return 'NaN'\n",
        "      elif len_fur == 1:\n",
        "        return furnished[0]\n",
        "      else:\n",
        "        return str(furnished[0]) + ' ' + '&' + ' ' + str(furnished[1])\n",
        "    furnishes = check_list(furnished)\n",
        "\n",
        "    # print(loc)\n",
        "    listed_homes.append([ext, desc, type_,loc, num_of_bed, furnishes, currency, price])\n"
      ]
    },
    {
      "cell_type": "code",
      "execution_count": null,
      "metadata": {
        "colab": {
          "base_uri": "https://localhost:8080/",
          "height": 206
        },
        "id": "yVhdkf43qHGn",
        "outputId": "801e8c34-9b95-4cba-a743-32481635825b"
      },
      "outputs": [
        {
          "data": {
            "text/html": [
              "\n",
              "  <div id=\"df-de14e27c-785e-46b2-ac53-d8f1528959c8\" class=\"colab-df-container\">\n",
              "    <div>\n",
              "<style scoped>\n",
              "    .dataframe tbody tr th:only-of-type {\n",
              "        vertical-align: middle;\n",
              "    }\n",
              "\n",
              "    .dataframe tbody tr th {\n",
              "        vertical-align: top;\n",
              "    }\n",
              "\n",
              "    .dataframe thead th {\n",
              "        text-align: right;\n",
              "    }\n",
              "</style>\n",
              "<table border=\"1\" class=\"dataframe\">\n",
              "  <thead>\n",
              "    <tr style=\"text-align: right;\">\n",
              "      <th></th>\n",
              "      <th>Date</th>\n",
              "      <th>Description</th>\n",
              "      <th>Type</th>\n",
              "      <th>Location</th>\n",
              "      <th>Number Of Bedrooms</th>\n",
              "      <th>Furnished</th>\n",
              "      <th>Currency</th>\n",
              "      <th>Price</th>\n",
              "    </tr>\n",
              "  </thead>\n",
              "  <tbody>\n",
              "    <tr>\n",
              "      <th>99945</th>\n",
              "      <td>24 Jul 2023</td>\n",
              "      <td>4 BEDROOM HOUSE FOR RENT</td>\n",
              "      <td>4 Bedroom Detached Duplex</td>\n",
              "      <td>Chevron Lekki Lagos</td>\n",
              "      <td>4 beds</td>\n",
              "      <td>Serviced &amp; Newly Built</td>\n",
              "      <td>₦</td>\n",
              "      <td>5,500,000</td>\n",
              "    </tr>\n",
              "    <tr>\n",
              "      <th>99946</th>\n",
              "      <td>24 Jul 2023</td>\n",
              "      <td>4 BEDROOM HOUSE FOR RENT</td>\n",
              "      <td>4 Bedroom Terrace Duplex</td>\n",
              "      <td>Ologolo Lekki Lagos</td>\n",
              "      <td>4 beds</td>\n",
              "      <td>Furnished &amp; Serviced</td>\n",
              "      <td>₦</td>\n",
              "      <td>7,000,000</td>\n",
              "    </tr>\n",
              "    <tr>\n",
              "      <th>99947</th>\n",
              "      <td>02 Aug 2023</td>\n",
              "      <td>4 BEDROOM HOUSE FOR RENT</td>\n",
              "      <td>Luxury 4 Bedroom Maisonette + Bq</td>\n",
              "      <td>Phase 1, Lekki Lagos</td>\n",
              "      <td>4 beds</td>\n",
              "      <td>Serviced &amp; Newly Built</td>\n",
              "      <td>₦</td>\n",
              "      <td>10,000,000</td>\n",
              "    </tr>\n",
              "    <tr>\n",
              "      <th>99948</th>\n",
              "      <td>04 Aug 2023</td>\n",
              "      <td>3 BEDROOM HOUSE FOR RENT</td>\n",
              "      <td>Serviced 3 Bedroom Apartment</td>\n",
              "      <td>Banana Island Road Ikoyi Lagos</td>\n",
              "      <td>3 beds</td>\n",
              "      <td>Serviced &amp; Newly Built</td>\n",
              "      <td>₦</td>\n",
              "      <td>11,000,000</td>\n",
              "    </tr>\n",
              "    <tr>\n",
              "      <th>99949</th>\n",
              "      <td>01 Aug 2023</td>\n",
              "      <td>4 BEDROOM HOUSE FOR RENT</td>\n",
              "      <td>Luxury 4 Bedroom Semi Detached Duplex + Bq</td>\n",
              "      <td>Chevron Toll Gate, Lekki Lagos</td>\n",
              "      <td>4 beds</td>\n",
              "      <td>Serviced &amp; Newly Built</td>\n",
              "      <td>₦</td>\n",
              "      <td>5,000,000</td>\n",
              "    </tr>\n",
              "  </tbody>\n",
              "</table>\n",
              "</div>\n",
              "    <div class=\"colab-df-buttons\">\n",
              "\n",
              "  <div class=\"colab-df-container\">\n",
              "    <button class=\"colab-df-convert\" onclick=\"convertToInteractive('df-de14e27c-785e-46b2-ac53-d8f1528959c8')\"\n",
              "            title=\"Convert this dataframe to an interactive table.\"\n",
              "            style=\"display:none;\">\n",
              "\n",
              "  <svg xmlns=\"http://www.w3.org/2000/svg\" height=\"24px\" viewBox=\"0 -960 960 960\">\n",
              "    <path d=\"M120-120v-720h720v720H120Zm60-500h600v-160H180v160Zm220 220h160v-160H400v160Zm0 220h160v-160H400v160ZM180-400h160v-160H180v160Zm440 0h160v-160H620v160ZM180-180h160v-160H180v160Zm440 0h160v-160H620v160Z\"/>\n",
              "  </svg>\n",
              "    </button>\n",
              "\n",
              "  <style>\n",
              "    .colab-df-container {\n",
              "      display:flex;\n",
              "      gap: 12px;\n",
              "    }\n",
              "\n",
              "    .colab-df-convert {\n",
              "      background-color: #E8F0FE;\n",
              "      border: none;\n",
              "      border-radius: 50%;\n",
              "      cursor: pointer;\n",
              "      display: none;\n",
              "      fill: #1967D2;\n",
              "      height: 32px;\n",
              "      padding: 0 0 0 0;\n",
              "      width: 32px;\n",
              "    }\n",
              "\n",
              "    .colab-df-convert:hover {\n",
              "      background-color: #E2EBFA;\n",
              "      box-shadow: 0px 1px 2px rgba(60, 64, 67, 0.3), 0px 1px 3px 1px rgba(60, 64, 67, 0.15);\n",
              "      fill: #174EA6;\n",
              "    }\n",
              "\n",
              "    .colab-df-buttons div {\n",
              "      margin-bottom: 4px;\n",
              "    }\n",
              "\n",
              "    [theme=dark] .colab-df-convert {\n",
              "      background-color: #3B4455;\n",
              "      fill: #D2E3FC;\n",
              "    }\n",
              "\n",
              "    [theme=dark] .colab-df-convert:hover {\n",
              "      background-color: #434B5C;\n",
              "      box-shadow: 0px 1px 3px 1px rgba(0, 0, 0, 0.15);\n",
              "      filter: drop-shadow(0px 1px 2px rgba(0, 0, 0, 0.3));\n",
              "      fill: #FFFFFF;\n",
              "    }\n",
              "  </style>\n",
              "\n",
              "    <script>\n",
              "      const buttonEl =\n",
              "        document.querySelector('#df-de14e27c-785e-46b2-ac53-d8f1528959c8 button.colab-df-convert');\n",
              "      buttonEl.style.display =\n",
              "        google.colab.kernel.accessAllowed ? 'block' : 'none';\n",
              "\n",
              "      async function convertToInteractive(key) {\n",
              "        const element = document.querySelector('#df-de14e27c-785e-46b2-ac53-d8f1528959c8');\n",
              "        const dataTable =\n",
              "          await google.colab.kernel.invokeFunction('convertToInteractive',\n",
              "                                                    [key], {});\n",
              "        if (!dataTable) return;\n",
              "\n",
              "        const docLinkHtml = 'Like what you see? Visit the ' +\n",
              "          '<a target=\"_blank\" href=https://colab.research.google.com/notebooks/data_table.ipynb>data table notebook</a>'\n",
              "          + ' to learn more about interactive tables.';\n",
              "        element.innerHTML = '';\n",
              "        dataTable['output_type'] = 'display_data';\n",
              "        await google.colab.output.renderOutput(dataTable, element);\n",
              "        const docLink = document.createElement('div');\n",
              "        docLink.innerHTML = docLinkHtml;\n",
              "        element.appendChild(docLink);\n",
              "      }\n",
              "    </script>\n",
              "  </div>\n",
              "\n",
              "\n",
              "<div id=\"df-de41b0e1-01d7-41e9-a728-bd27679d0226\">\n",
              "  <button class=\"colab-df-quickchart\" onclick=\"quickchart('df-de41b0e1-01d7-41e9-a728-bd27679d0226')\"\n",
              "            title=\"Suggest charts.\"\n",
              "            style=\"display:none;\">\n",
              "\n",
              "<svg xmlns=\"http://www.w3.org/2000/svg\" height=\"24px\"viewBox=\"0 0 24 24\"\n",
              "     width=\"24px\">\n",
              "    <g>\n",
              "        <path d=\"M19 3H5c-1.1 0-2 .9-2 2v14c0 1.1.9 2 2 2h14c1.1 0 2-.9 2-2V5c0-1.1-.9-2-2-2zM9 17H7v-7h2v7zm4 0h-2V7h2v10zm4 0h-2v-4h2v4z\"/>\n",
              "    </g>\n",
              "</svg>\n",
              "  </button>\n",
              "\n",
              "<style>\n",
              "  .colab-df-quickchart {\n",
              "    background-color: #E8F0FE;\n",
              "    border: none;\n",
              "    border-radius: 50%;\n",
              "    cursor: pointer;\n",
              "    display: none;\n",
              "    fill: #1967D2;\n",
              "    height: 32px;\n",
              "    padding: 0 0 0 0;\n",
              "    width: 32px;\n",
              "  }\n",
              "\n",
              "  .colab-df-quickchart:hover {\n",
              "    background-color: #E2EBFA;\n",
              "    box-shadow: 0px 1px 2px rgba(60, 64, 67, 0.3), 0px 1px 3px 1px rgba(60, 64, 67, 0.15);\n",
              "    fill: #174EA6;\n",
              "  }\n",
              "\n",
              "  [theme=dark] .colab-df-quickchart {\n",
              "    background-color: #3B4455;\n",
              "    fill: #D2E3FC;\n",
              "  }\n",
              "\n",
              "  [theme=dark] .colab-df-quickchart:hover {\n",
              "    background-color: #434B5C;\n",
              "    box-shadow: 0px 1px 3px 1px rgba(0, 0, 0, 0.15);\n",
              "    filter: drop-shadow(0px 1px 2px rgba(0, 0, 0, 0.3));\n",
              "    fill: #FFFFFF;\n",
              "  }\n",
              "</style>\n",
              "\n",
              "  <script>\n",
              "    async function quickchart(key) {\n",
              "      const charts = await google.colab.kernel.invokeFunction(\n",
              "          'suggestCharts', [key], {});\n",
              "    }\n",
              "    (() => {\n",
              "      let quickchartButtonEl =\n",
              "        document.querySelector('#df-de41b0e1-01d7-41e9-a728-bd27679d0226 button');\n",
              "      quickchartButtonEl.style.display =\n",
              "        google.colab.kernel.accessAllowed ? 'block' : 'none';\n",
              "    })();\n",
              "  </script>\n",
              "</div>\n",
              "    </div>\n",
              "  </div>\n"
            ],
            "text/plain": [
              "              Date               Description  \\\n",
              "99945  24 Jul 2023  4 BEDROOM HOUSE FOR RENT   \n",
              "99946  24 Jul 2023  4 BEDROOM HOUSE FOR RENT   \n",
              "99947  02 Aug 2023  4 BEDROOM HOUSE FOR RENT   \n",
              "99948  04 Aug 2023  3 BEDROOM HOUSE FOR RENT   \n",
              "99949  01 Aug 2023  4 BEDROOM HOUSE FOR RENT   \n",
              "\n",
              "                                             Type  \\\n",
              "99945                   4 Bedroom Detached Duplex   \n",
              "99946                    4 Bedroom Terrace Duplex   \n",
              "99947            Luxury 4 Bedroom Maisonette + Bq   \n",
              "99948                Serviced 3 Bedroom Apartment   \n",
              "99949  Luxury 4 Bedroom Semi Detached Duplex + Bq   \n",
              "\n",
              "                             Location Number Of Bedrooms  \\\n",
              "99945             Chevron Lekki Lagos             4 beds   \n",
              "99946             Ologolo Lekki Lagos             4 beds   \n",
              "99947            Phase 1, Lekki Lagos             4 beds   \n",
              "99948  Banana Island Road Ikoyi Lagos             3 beds   \n",
              "99949  Chevron Toll Gate, Lekki Lagos             4 beds   \n",
              "\n",
              "                    Furnished Currency       Price  \n",
              "99945  Serviced & Newly Built        ₦   5,500,000  \n",
              "99946    Furnished & Serviced        ₦   7,000,000  \n",
              "99947  Serviced & Newly Built        ₦  10,000,000  \n",
              "99948  Serviced & Newly Built        ₦  11,000,000  \n",
              "99949  Serviced & Newly Built        ₦   5,000,000  "
            ]
          },
          "execution_count": 3,
          "metadata": {},
          "output_type": "execute_result"
        }
      ],
      "source": [
        "df= pd.DataFrame(listed_homes, columns= ['Date', 'Description', 'Type', 'Location', 'Number Of Bedrooms', 'Furnished', 'Currency','Price'])\n",
        "df.tail()"
      ]
    },
    {
      "cell_type": "code",
      "execution_count": null,
      "metadata": {
        "id": "TisTCPj5qOyo"
      },
      "outputs": [],
      "source": [
        "df.to_csv('forecast_house_pro_Data.csv')"
      ]
    },
    {
      "cell_type": "code",
      "execution_count": null,
      "metadata": {
        "colab": {
          "base_uri": "https://localhost:8080/"
        },
        "id": "ttsw529iqUPj",
        "outputId": "809dc931-8c04-4b12-b087-8f0420fa9248"
      },
      "outputs": [
        {
          "name": "stdout",
          "output_type": "stream",
          "text": [
            "Mounted at /content/drive\n"
          ]
        }
      ],
      "source": [
        "from google.colab import drive\n",
        "drive.mount('/content/drive')"
      ]
    },
    {
      "cell_type": "code",
      "execution_count": null,
      "metadata": {
        "id": "7yF2jJSwqW8o"
      },
      "outputs": [],
      "source": [
        "df= pd.read_csv('/content/forecast_house_pro_Data.csv')"
      ]
    },
    {
      "cell_type": "code",
      "execution_count": null,
      "metadata": {
        "colab": {
          "base_uri": "https://localhost:8080/",
          "height": 310
        },
        "id": "jounBs3PqbAY",
        "outputId": "529b9c3c-a7bc-4d0f-d3ce-7154e8c0abeb"
      },
      "outputs": [
        {
          "output_type": "execute_result",
          "data": {
            "text/plain": [
              "   Unnamed: 0         Date                          Description  \\\n",
              "0           0  26 Jul 2023  1 BEDROOM FLAT / APARTMENT FOR RENT   \n",
              "1           1  15 Aug 2023  2 BEDROOM FLAT / APARTMENT FOR RENT   \n",
              "2           2  04 Aug 2023  1 BEDROOM FLAT / APARTMENT FOR RENT   \n",
              "3           3  02 Aug 2023             3 BEDROOM HOUSE FOR RENT   \n",
              "4           4  02 Aug 2023             1 BEDROOM HOUSE FOR RENT   \n",
              "\n",
              "                                   Type  \\\n",
              "0  1 Ensuite Room In A Shared Apartment   \n",
              "1                   2 Bedroom Apartment   \n",
              "2                    Serviced Mini Flat   \n",
              "3            Luxury 3 Bedroom Penthouse   \n",
              "4          Serviced 1 Bedroom Apartment   \n",
              "\n",
              "                                            Location Number Of Bedrooms  \\\n",
              "0                                Chevron Lekki Lagos             1 beds   \n",
              "1  Regent Park Estate, Oribanwa Phase 2, Off Epe ...             2 beds   \n",
              "2                           Osapa London Lekki Lagos             1 beds   \n",
              "3                               Phase 1, Lekki Lagos             3 beds   \n",
              "4                               Phase 1, Lekki Lagos             1 beds   \n",
              "\n",
              "                Furnished Currency       Price  \n",
              "0  Serviced & Newly Built        ₦     650,000  \n",
              "1             Newly Built        ₦   1,000,000  \n",
              "2  Serviced & Newly Built        ₦   2,000,000  \n",
              "3  Serviced & Newly Built        ₦  11,000,000  \n",
              "4  Serviced & Newly Built        ₦   4,000,000  "
            ],
            "text/html": [
              "\n",
              "  <div id=\"df-30d072d7-f858-4636-9311-afd4b214f511\" class=\"colab-df-container\">\n",
              "    <div>\n",
              "<style scoped>\n",
              "    .dataframe tbody tr th:only-of-type {\n",
              "        vertical-align: middle;\n",
              "    }\n",
              "\n",
              "    .dataframe tbody tr th {\n",
              "        vertical-align: top;\n",
              "    }\n",
              "\n",
              "    .dataframe thead th {\n",
              "        text-align: right;\n",
              "    }\n",
              "</style>\n",
              "<table border=\"1\" class=\"dataframe\">\n",
              "  <thead>\n",
              "    <tr style=\"text-align: right;\">\n",
              "      <th></th>\n",
              "      <th>Unnamed: 0</th>\n",
              "      <th>Date</th>\n",
              "      <th>Description</th>\n",
              "      <th>Type</th>\n",
              "      <th>Location</th>\n",
              "      <th>Number Of Bedrooms</th>\n",
              "      <th>Furnished</th>\n",
              "      <th>Currency</th>\n",
              "      <th>Price</th>\n",
              "    </tr>\n",
              "  </thead>\n",
              "  <tbody>\n",
              "    <tr>\n",
              "      <th>0</th>\n",
              "      <td>0</td>\n",
              "      <td>26 Jul 2023</td>\n",
              "      <td>1 BEDROOM FLAT / APARTMENT FOR RENT</td>\n",
              "      <td>1 Ensuite Room In A Shared Apartment</td>\n",
              "      <td>Chevron Lekki Lagos</td>\n",
              "      <td>1 beds</td>\n",
              "      <td>Serviced &amp; Newly Built</td>\n",
              "      <td>₦</td>\n",
              "      <td>650,000</td>\n",
              "    </tr>\n",
              "    <tr>\n",
              "      <th>1</th>\n",
              "      <td>1</td>\n",
              "      <td>15 Aug 2023</td>\n",
              "      <td>2 BEDROOM FLAT / APARTMENT FOR RENT</td>\n",
              "      <td>2 Bedroom Apartment</td>\n",
              "      <td>Regent Park Estate, Oribanwa Phase 2, Off Epe ...</td>\n",
              "      <td>2 beds</td>\n",
              "      <td>Newly Built</td>\n",
              "      <td>₦</td>\n",
              "      <td>1,000,000</td>\n",
              "    </tr>\n",
              "    <tr>\n",
              "      <th>2</th>\n",
              "      <td>2</td>\n",
              "      <td>04 Aug 2023</td>\n",
              "      <td>1 BEDROOM FLAT / APARTMENT FOR RENT</td>\n",
              "      <td>Serviced Mini Flat</td>\n",
              "      <td>Osapa London Lekki Lagos</td>\n",
              "      <td>1 beds</td>\n",
              "      <td>Serviced &amp; Newly Built</td>\n",
              "      <td>₦</td>\n",
              "      <td>2,000,000</td>\n",
              "    </tr>\n",
              "    <tr>\n",
              "      <th>3</th>\n",
              "      <td>3</td>\n",
              "      <td>02 Aug 2023</td>\n",
              "      <td>3 BEDROOM HOUSE FOR RENT</td>\n",
              "      <td>Luxury 3 Bedroom Penthouse</td>\n",
              "      <td>Phase 1, Lekki Lagos</td>\n",
              "      <td>3 beds</td>\n",
              "      <td>Serviced &amp; Newly Built</td>\n",
              "      <td>₦</td>\n",
              "      <td>11,000,000</td>\n",
              "    </tr>\n",
              "    <tr>\n",
              "      <th>4</th>\n",
              "      <td>4</td>\n",
              "      <td>02 Aug 2023</td>\n",
              "      <td>1 BEDROOM HOUSE FOR RENT</td>\n",
              "      <td>Serviced 1 Bedroom Apartment</td>\n",
              "      <td>Phase 1, Lekki Lagos</td>\n",
              "      <td>1 beds</td>\n",
              "      <td>Serviced &amp; Newly Built</td>\n",
              "      <td>₦</td>\n",
              "      <td>4,000,000</td>\n",
              "    </tr>\n",
              "  </tbody>\n",
              "</table>\n",
              "</div>\n",
              "    <div class=\"colab-df-buttons\">\n",
              "\n",
              "  <div class=\"colab-df-container\">\n",
              "    <button class=\"colab-df-convert\" onclick=\"convertToInteractive('df-30d072d7-f858-4636-9311-afd4b214f511')\"\n",
              "            title=\"Convert this dataframe to an interactive table.\"\n",
              "            style=\"display:none;\">\n",
              "\n",
              "  <svg xmlns=\"http://www.w3.org/2000/svg\" height=\"24px\" viewBox=\"0 -960 960 960\">\n",
              "    <path d=\"M120-120v-720h720v720H120Zm60-500h600v-160H180v160Zm220 220h160v-160H400v160Zm0 220h160v-160H400v160ZM180-400h160v-160H180v160Zm440 0h160v-160H620v160ZM180-180h160v-160H180v160Zm440 0h160v-160H620v160Z\"/>\n",
              "  </svg>\n",
              "    </button>\n",
              "\n",
              "  <style>\n",
              "    .colab-df-container {\n",
              "      display:flex;\n",
              "      gap: 12px;\n",
              "    }\n",
              "\n",
              "    .colab-df-convert {\n",
              "      background-color: #E8F0FE;\n",
              "      border: none;\n",
              "      border-radius: 50%;\n",
              "      cursor: pointer;\n",
              "      display: none;\n",
              "      fill: #1967D2;\n",
              "      height: 32px;\n",
              "      padding: 0 0 0 0;\n",
              "      width: 32px;\n",
              "    }\n",
              "\n",
              "    .colab-df-convert:hover {\n",
              "      background-color: #E2EBFA;\n",
              "      box-shadow: 0px 1px 2px rgba(60, 64, 67, 0.3), 0px 1px 3px 1px rgba(60, 64, 67, 0.15);\n",
              "      fill: #174EA6;\n",
              "    }\n",
              "\n",
              "    .colab-df-buttons div {\n",
              "      margin-bottom: 4px;\n",
              "    }\n",
              "\n",
              "    [theme=dark] .colab-df-convert {\n",
              "      background-color: #3B4455;\n",
              "      fill: #D2E3FC;\n",
              "    }\n",
              "\n",
              "    [theme=dark] .colab-df-convert:hover {\n",
              "      background-color: #434B5C;\n",
              "      box-shadow: 0px 1px 3px 1px rgba(0, 0, 0, 0.15);\n",
              "      filter: drop-shadow(0px 1px 2px rgba(0, 0, 0, 0.3));\n",
              "      fill: #FFFFFF;\n",
              "    }\n",
              "  </style>\n",
              "\n",
              "    <script>\n",
              "      const buttonEl =\n",
              "        document.querySelector('#df-30d072d7-f858-4636-9311-afd4b214f511 button.colab-df-convert');\n",
              "      buttonEl.style.display =\n",
              "        google.colab.kernel.accessAllowed ? 'block' : 'none';\n",
              "\n",
              "      async function convertToInteractive(key) {\n",
              "        const element = document.querySelector('#df-30d072d7-f858-4636-9311-afd4b214f511');\n",
              "        const dataTable =\n",
              "          await google.colab.kernel.invokeFunction('convertToInteractive',\n",
              "                                                    [key], {});\n",
              "        if (!dataTable) return;\n",
              "\n",
              "        const docLinkHtml = 'Like what you see? Visit the ' +\n",
              "          '<a target=\"_blank\" href=https://colab.research.google.com/notebooks/data_table.ipynb>data table notebook</a>'\n",
              "          + ' to learn more about interactive tables.';\n",
              "        element.innerHTML = '';\n",
              "        dataTable['output_type'] = 'display_data';\n",
              "        await google.colab.output.renderOutput(dataTable, element);\n",
              "        const docLink = document.createElement('div');\n",
              "        docLink.innerHTML = docLinkHtml;\n",
              "        element.appendChild(docLink);\n",
              "      }\n",
              "    </script>\n",
              "  </div>\n",
              "\n",
              "\n",
              "<div id=\"df-8a9e5760-2511-4a4c-b834-2e5b51ca7b63\">\n",
              "  <button class=\"colab-df-quickchart\" onclick=\"quickchart('df-8a9e5760-2511-4a4c-b834-2e5b51ca7b63')\"\n",
              "            title=\"Suggest charts.\"\n",
              "            style=\"display:none;\">\n",
              "\n",
              "<svg xmlns=\"http://www.w3.org/2000/svg\" height=\"24px\"viewBox=\"0 0 24 24\"\n",
              "     width=\"24px\">\n",
              "    <g>\n",
              "        <path d=\"M19 3H5c-1.1 0-2 .9-2 2v14c0 1.1.9 2 2 2h14c1.1 0 2-.9 2-2V5c0-1.1-.9-2-2-2zM9 17H7v-7h2v7zm4 0h-2V7h2v10zm4 0h-2v-4h2v4z\"/>\n",
              "    </g>\n",
              "</svg>\n",
              "  </button>\n",
              "\n",
              "<style>\n",
              "  .colab-df-quickchart {\n",
              "    background-color: #E8F0FE;\n",
              "    border: none;\n",
              "    border-radius: 50%;\n",
              "    cursor: pointer;\n",
              "    display: none;\n",
              "    fill: #1967D2;\n",
              "    height: 32px;\n",
              "    padding: 0 0 0 0;\n",
              "    width: 32px;\n",
              "  }\n",
              "\n",
              "  .colab-df-quickchart:hover {\n",
              "    background-color: #E2EBFA;\n",
              "    box-shadow: 0px 1px 2px rgba(60, 64, 67, 0.3), 0px 1px 3px 1px rgba(60, 64, 67, 0.15);\n",
              "    fill: #174EA6;\n",
              "  }\n",
              "\n",
              "  [theme=dark] .colab-df-quickchart {\n",
              "    background-color: #3B4455;\n",
              "    fill: #D2E3FC;\n",
              "  }\n",
              "\n",
              "  [theme=dark] .colab-df-quickchart:hover {\n",
              "    background-color: #434B5C;\n",
              "    box-shadow: 0px 1px 3px 1px rgba(0, 0, 0, 0.15);\n",
              "    filter: drop-shadow(0px 1px 2px rgba(0, 0, 0, 0.3));\n",
              "    fill: #FFFFFF;\n",
              "  }\n",
              "</style>\n",
              "\n",
              "  <script>\n",
              "    async function quickchart(key) {\n",
              "      const charts = await google.colab.kernel.invokeFunction(\n",
              "          'suggestCharts', [key], {});\n",
              "    }\n",
              "    (() => {\n",
              "      let quickchartButtonEl =\n",
              "        document.querySelector('#df-8a9e5760-2511-4a4c-b834-2e5b51ca7b63 button');\n",
              "      quickchartButtonEl.style.display =\n",
              "        google.colab.kernel.accessAllowed ? 'block' : 'none';\n",
              "    })();\n",
              "  </script>\n",
              "</div>\n",
              "    </div>\n",
              "  </div>\n"
            ]
          },
          "metadata": {},
          "execution_count": 374
        }
      ],
      "source": [
        "df.head()"
      ]
    },
    {
      "cell_type": "code",
      "execution_count": null,
      "metadata": {
        "colab": {
          "base_uri": "https://localhost:8080/"
        },
        "id": "gql_YmxdqeYQ",
        "outputId": "c0eb67f1-45aa-4957-b3fb-ddf4e3a60890"
      },
      "outputs": [
        {
          "output_type": "execute_result",
          "data": {
            "text/plain": [
              "Unnamed: 0               0\n",
              "Date                     0\n",
              "Description              0\n",
              "Type                     0\n",
              "Location                 0\n",
              "Number Of Bedrooms       0\n",
              "Furnished             3998\n",
              "Currency                 0\n",
              "Price                    0\n",
              "dtype: int64"
            ]
          },
          "metadata": {},
          "execution_count": 375
        }
      ],
      "source": [
        "df.isnull().sum()"
      ]
    },
    {
      "cell_type": "code",
      "execution_count": null,
      "metadata": {
        "id": "l4oh95LJqitQ"
      },
      "outputs": [],
      "source": [
        "df['Date'] = pd.to_datetime(df['Date'])"
      ]
    },
    {
      "cell_type": "code",
      "execution_count": null,
      "metadata": {
        "id": "I_kvP5tNqlT8"
      },
      "outputs": [],
      "source": [
        "df['Price'] = df['Price'].astype(str).str.replace(',', '')"
      ]
    },
    {
      "cell_type": "code",
      "execution_count": null,
      "metadata": {
        "id": "Bx4gw9SfqniB"
      },
      "outputs": [],
      "source": [
        "df['Price'] = df['Price'].astype(int)"
      ]
    },
    {
      "cell_type": "code",
      "execution_count": null,
      "metadata": {
        "id": "BlPY_LLtqx79"
      },
      "outputs": [],
      "source": [
        "for index, row in df.iterrows():\n",
        "  if '$' in row['Currency']:\n",
        "    dol_to_naira = 775.50 * int(row['Price'])\n",
        "    df.loc[index, 'Price'] = dol_to_naira"
      ]
    },
    {
      "cell_type": "code",
      "execution_count": null,
      "metadata": {
        "colab": {
          "base_uri": "https://localhost:8080/"
        },
        "id": "o9GOK0leqx2g",
        "outputId": "d606402a-f106-42e8-d28b-e0509491be28"
      },
      "outputs": [
        {
          "output_type": "execute_result",
          "data": {
            "text/plain": [
              "array(['₦'], dtype=object)"
            ]
          },
          "metadata": {},
          "execution_count": 380
        }
      ],
      "source": [
        "df['Currency'].unique()"
      ]
    },
    {
      "cell_type": "code",
      "execution_count": null,
      "metadata": {
        "id": "5K0W6jMoqxzJ"
      },
      "outputs": [],
      "source": [
        "df['Type']= df['Type'].str.lower()"
      ]
    },
    {
      "cell_type": "code",
      "execution_count": null,
      "metadata": {
        "id": "9jQipleCqxwV"
      },
      "outputs": [],
      "source": [
        "for index, row in df.iterrows():\n",
        "  if 'office' in row['Type'] or 'commercial' in row['Type'] or 'shop' in row['Type']:\n",
        "    df.drop(index, inplace=True)"
      ]
    },
    {
      "cell_type": "code",
      "execution_count": null,
      "metadata": {
        "id": "P9n9k5wNqxqM"
      },
      "outputs": [],
      "source": [
        "# property_type = ['mini flat', 'flat', 'terrace duplex', 'apartment', 'semi detached duplex', 'detached duplex']\n",
        "\n",
        "def clean_type(x):\n",
        "    if 'terraces duplex' in x or 'terraced duplex' in x or 'terrace duplex' in x or 'terrace' in x:\n",
        "      return 'terrace duplex'\n",
        "    elif 'mini flat' in x or 'room and parlor' in x:\n",
        "      return 'mini flat'\n",
        "    elif 'flat' in x or 'flats' in x:\n",
        "      return 'flat'\n",
        "    elif 'self contain' in x or 'self con' in x:\n",
        "      return 'self contain'\n",
        "    elif 'apartment' in x and not 'shared' in x:\n",
        "      return 'flat'\n",
        "    elif 'shared' in x and 'apartment' in x:\n",
        "      return 'shared apartment'\n",
        "    elif 'maisonette' in x or 'massionette' in x:\n",
        "      return 'maisonette'\n",
        "    elif 'semi' in x and 'detached ' in x:\n",
        "      return 'semi detached duplex'\n",
        "    elif 'detached' in x and not 'semi' in x:\n",
        "      return 'detached duplex'\n",
        "    elif 'penthouse' in x:\n",
        "      return 'penthouse'\n",
        "    elif 'mansion' in x:\n",
        "      return 'mansion'\n",
        "    elif 'bungalow' in x:\n",
        "      return 'bungalow'\n",
        "    elif 'bedroom duplex' in x:\n",
        "      return 'duplex'\n",
        "    else:\n",
        "      return x\n",
        "\n",
        "\n",
        "df['Property_type']= df['Type'].map(clean_type)"
      ]
    },
    {
      "cell_type": "code",
      "execution_count": null,
      "metadata": {
        "colab": {
          "base_uri": "https://localhost:8080/"
        },
        "id": "vmysmTihqxlv",
        "outputId": "725e9bb5-731e-4326-c41b-9e9896bab86a"
      },
      "outputs": [
        {
          "output_type": "execute_result",
          "data": {
            "text/plain": [
              "array(['shared apartment', 'flat', 'mini flat', 'penthouse',\n",
              "       'detached duplex', 'maisonette', 'terrace duplex',\n",
              "       'semi detached duplex', '6,663 sqm land'], dtype=object)"
            ]
          },
          "metadata": {},
          "execution_count": 384
        }
      ],
      "source": [
        "df['Property_type'].unique()"
      ]
    },
    {
      "cell_type": "code",
      "execution_count": null,
      "metadata": {
        "colab": {
          "base_uri": "https://localhost:8080/"
        },
        "id": "K8rBuAUEqxaj",
        "outputId": "8fc0b1dd-3997-4472-cb85-9c2335e64671"
      },
      "outputs": [
        {
          "output_type": "stream",
          "name": "stdout",
          "text": [
            "1999\n"
          ]
        }
      ],
      "source": [
        "pent = 0\n",
        "for index, row in df.iterrows():\n",
        "  if 'penthouse' in row['Type']:\n",
        "    pent+=1\n",
        "print(pent)"
      ]
    },
    {
      "cell_type": "code",
      "execution_count": null,
      "metadata": {
        "colab": {
          "base_uri": "https://localhost:8080/"
        },
        "id": "78ZzSgQVqxWA",
        "outputId": "067af8a6-3708-4055-9695-0f46e3c45771"
      },
      "outputs": [
        {
          "output_type": "stream",
          "name": "stdout",
          "text": [
            "27986\n"
          ]
        }
      ],
      "source": [
        "terrace = 0\n",
        "for index, row in df.iterrows():\n",
        "  if 'terrace' in row['Type'] or 'terraces' in row['Type'] or 'terraced' in row['Type']:\n",
        "    terrace+=1\n",
        "print(terrace)"
      ]
    },
    {
      "cell_type": "code",
      "execution_count": null,
      "metadata": {
        "colab": {
          "base_uri": "https://localhost:8080/"
        },
        "id": "nwPellDerWAR",
        "outputId": "f16a4c3a-8d11-4361-d548-32d71348191f"
      },
      "outputs": [
        {
          "output_type": "stream",
          "name": "stdout",
          "text": [
            "11994\n"
          ]
        }
      ],
      "source": [
        "detached = 0\n",
        "for index, row in df.iterrows():\n",
        "  if 'semi' in row['Type']:\n",
        "    detached+=1\n",
        "print(detached)"
      ]
    },
    {
      "cell_type": "code",
      "execution_count": null,
      "metadata": {
        "colab": {
          "base_uri": "https://localhost:8080/"
        },
        "id": "eCh8vlnNrV8H",
        "outputId": "7cb37364-c570-444c-b164-350174899630"
      },
      "outputs": [
        {
          "output_type": "stream",
          "name": "stdout",
          "text": [
            "23988\n"
          ]
        }
      ],
      "source": [
        "detached_ = 0\n",
        "for index, row in df.iterrows():\n",
        "  if 'detached' in row['Type']:\n",
        "    detached_+=1\n",
        "print(detached_)"
      ]
    },
    {
      "cell_type": "code",
      "execution_count": null,
      "metadata": {
        "id": "8NoeqaTdrV4K"
      },
      "outputs": [],
      "source": [
        "for index, row in df.iterrows():\n",
        "  if 'haap coliving furnished bq for monthly stay' in row['Property_type']:\n",
        "    df.drop(index, inplace=True)"
      ]
    },
    {
      "cell_type": "code",
      "execution_count": null,
      "metadata": {
        "colab": {
          "base_uri": "https://localhost:8080/"
        },
        "id": "GXTMBVdsrV0R",
        "outputId": "98eae6a2-5669-4d33-acec-2a00fe4fe0c9"
      },
      "outputs": [
        {
          "output_type": "stream",
          "name": "stdout",
          "text": [
            "1999\n"
          ]
        }
      ],
      "source": [
        "self_=0\n",
        "\n",
        "for index, row in df.iterrows():\n",
        "  if 'self contain' in row['Type'] or 'self con' in row['Type']:\n",
        "    self_+=1\n",
        "print(self_)"
      ]
    },
    {
      "cell_type": "code",
      "execution_count": null,
      "metadata": {
        "id": "5VWZwuIIrVwl"
      },
      "outputs": [],
      "source": [
        "ware = 0\n",
        "\n",
        "for index, row in df.iterrows():\n",
        "  if 'warehouse' in row['Type']:\n",
        "    df.drop(index, inplace=True)"
      ]
    },
    {
      "cell_type": "code",
      "execution_count": null,
      "metadata": {
        "id": "gePgtVjOrVs0"
      },
      "outputs": [],
      "source": [
        "for index, row in df.iterrows():\n",
        "  if '1 room (sharing kitchen with just a single occupant)' in row['Type']:\n",
        "    df.drop(index, inplace=True)"
      ]
    },
    {
      "cell_type": "code",
      "execution_count": null,
      "metadata": {
        "id": "Rwo-cCyIwYMV"
      },
      "outputs": [],
      "source": [
        "for index, row in df.iterrows():\n",
        "  if 'newly built self con for rent' in row['Property_type']:\n",
        "    df.loc[index, 'Property_type'] = 'studio apartment'\n",
        "    # print(row)\n"
      ]
    },
    {
      "cell_type": "code",
      "execution_count": null,
      "metadata": {
        "id": "6YQrV4tpxHnB"
      },
      "outputs": [],
      "source": [
        "for index, row in df.iterrows():\n",
        "  if 'sqm land' in row['Property_type']:\n",
        "    df.drop(index, inplace=True)"
      ]
    },
    {
      "cell_type": "code",
      "execution_count": null,
      "metadata": {
        "colab": {
          "base_uri": "https://localhost:8080/"
        },
        "id": "PodzDVh2rVo0",
        "outputId": "8bbc9f9e-d234-49f2-f720-5f1c130419ba"
      },
      "outputs": [
        {
          "output_type": "stream",
          "name": "stdout",
          "text": [
            "5997\n"
          ]
        }
      ],
      "source": [
        "share_=0\n",
        "\n",
        "for index, row in df.iterrows():\n",
        "  if 'shared apartment' in row['Type']:\n",
        "    share_+=1\n",
        "print(share_)"
      ]
    },
    {
      "cell_type": "code",
      "execution_count": null,
      "metadata": {
        "colab": {
          "base_uri": "https://localhost:8080/"
        },
        "id": "6BR-7OqxrVlB",
        "outputId": "4aa0cbfe-d832-41f6-b251-afebeb873351"
      },
      "outputs": [
        {
          "output_type": "execute_result",
          "data": {
            "text/plain": [
              "flat                    29985\n",
              "terrace duplex          27986\n",
              "detached duplex         11994\n",
              "semi detached duplex    11994\n",
              "shared apartment         5997\n",
              "mini flat                3998\n",
              "maisonette               3998\n",
              "penthouse                1999\n",
              "Name: Property_type, dtype: int64"
            ]
          },
          "metadata": {},
          "execution_count": 396
        }
      ],
      "source": [
        "df['Property_type'].value_counts()"
      ]
    },
    {
      "cell_type": "code",
      "execution_count": null,
      "metadata": {
        "colab": {
          "base_uri": "https://localhost:8080/",
          "height": 1000
        },
        "id": "b9bQqQQvrVhC",
        "outputId": "dd056242-4bb9-4473-81d0-3e26b824da3a"
      },
      "outputs": [
        {
          "output_type": "display_data",
          "data": {
            "text/plain": [
              "<Figure size 1800x1200 with 1 Axes>"
            ],
            "image/png": "[encoded data removed]"
          },
          "metadata": {}
        }
      ],
      "source": [
        "plt.figure(figsize=(18,12))\n",
        "\n",
        "property_val= df['Property_type'].value_counts()\n",
        "\n",
        "# Create a bar plot\n",
        "plt.bar(property_val.index, property_val.values)\n",
        "\n",
        "# Set plot title and labels\n",
        "plt.title('Count of Property Types')\n",
        "plt.xlabel('Property Types')\n",
        "plt.ylabel('Count')\n",
        "plt.tight_layout()\n",
        "plt.xticks(rotation=90)\n",
        "\n",
        "# Show the plot\n",
        "plt.show()"
      ]
    },
    {
      "cell_type": "code",
      "execution_count": null,
      "metadata": {
        "colab": {
          "base_uri": "https://localhost:8080/"
        },
        "id": "-GyN-oJv82Hi",
        "outputId": "ba0328e3-9edb-4928-97f4-6ada7a1c27e6"
      },
      "outputs": [
        {
          "output_type": "execute_result",
          "data": {
            "text/plain": [
              "array(['1 beds', '2 beds', '3 beds', '5 beds', '4 beds', '0 beds'],\n",
              "      dtype=object)"
            ]
          },
          "metadata": {},
          "execution_count": 398
        }
      ],
      "source": [
        "df['Number Of Bedrooms'].unique()"
      ]
    },
    {
      "cell_type": "code",
      "execution_count": null,
      "metadata": {
        "id": "x8hXJtJb82Dz"
      },
      "outputs": [],
      "source": [
        "# bed_ = 0\n",
        "for index, row in df.iterrows():\n",
        "  df_bed = str(row['Number Of Bedrooms'])\n",
        "  match_ = re.search(r'^\\d', df_bed)\n",
        "  beds= 0 if match_ == None else match_.group(0)\n",
        "  df.loc[index, 'Number Of Bedrooms'] = beds\n",
        "  # print(beds)"
      ]
    },
    {
      "cell_type": "code",
      "execution_count": null,
      "metadata": {
        "colab": {
          "base_uri": "https://localhost:8080/"
        },
        "id": "-MLLt_4H82A4",
        "outputId": "f3137d29-bc6b-4f53-c136-516ff293ecd4"
      },
      "outputs": [
        {
          "output_type": "execute_result",
          "data": {
            "text/plain": [
              "array(['1', '2', '3', '5', '4', '0'], dtype=object)"
            ]
          },
          "metadata": {},
          "execution_count": 400
        }
      ],
      "source": [
        "df['Number Of Bedrooms'].unique()"
      ]
    },
    {
      "cell_type": "code",
      "execution_count": null,
      "metadata": {
        "id": "Aq8fbrta81-A"
      },
      "outputs": [],
      "source": [
        "df[\"Number Of Bedrooms\"]= df['Number Of Bedrooms'].astype(int)"
      ]
    },
    {
      "cell_type": "code",
      "execution_count": null,
      "metadata": {
        "colab": {
          "base_uri": "https://localhost:8080/"
        },
        "id": "q8zb4I15816z",
        "outputId": "df58e8dc-e403-4c1a-c310-a18a6355d0e0"
      },
      "outputs": [
        {
          "output_type": "execute_result",
          "data": {
            "text/plain": [
              "Unnamed: 0                     int64\n",
              "Date                  datetime64[ns]\n",
              "Description                   object\n",
              "Type                          object\n",
              "Location                      object\n",
              "Number Of Bedrooms             int64\n",
              "Furnished                     object\n",
              "Currency                      object\n",
              "Price                          int64\n",
              "Property_type                 object\n",
              "dtype: object"
            ]
          },
          "metadata": {},
          "execution_count": 402
        }
      ],
      "source": [
        "df.dtypes"
      ]
    },
    {
      "cell_type": "code",
      "execution_count": null,
      "metadata": {
        "colab": {
          "base_uri": "https://localhost:8080/"
        },
        "id": "ZKcnC1fe813o",
        "outputId": "ee768998-d363-48b4-af2f-e47a17307a65"
      },
      "outputs": [
        {
          "output_type": "execute_result",
          "data": {
            "text/plain": [
              "array(['Serviced & Newly Built', 'Newly Built', 'Serviced',\n",
              "       'Furnished & Newly Built', 'Furnished & Serviced', nan],\n",
              "      dtype=object)"
            ]
          },
          "metadata": {},
          "execution_count": 403
        }
      ],
      "source": [
        "df['Furnished'].unique()"
      ]
    },
    {
      "cell_type": "code",
      "execution_count": null,
      "metadata": {
        "id": "qWHtzFp-810v"
      },
      "outputs": [],
      "source": [
        "# replace nan values with non-furnished\n",
        "\n",
        "df['Furnished'].fillna('Non-Furnished', inplace=True)"
      ]
    },
    {
      "cell_type": "code",
      "execution_count": null,
      "metadata": {
        "colab": {
          "base_uri": "https://localhost:8080/"
        },
        "id": "ANiZDVzg81xn",
        "outputId": "66d9e827-ddd2-446c-e609-d9c2e163f343"
      },
      "outputs": [
        {
          "output_type": "execute_result",
          "data": {
            "text/plain": [
              "array(['Serviced & Newly Built', 'Newly Built', 'Serviced',\n",
              "       'Furnished & Newly Built', 'Furnished & Serviced', 'Non-Furnished'],\n",
              "      dtype=object)"
            ]
          },
          "metadata": {},
          "execution_count": 405
        }
      ],
      "source": [
        "df['Furnished'].unique()"
      ]
    },
    {
      "cell_type": "code",
      "execution_count": null,
      "metadata": {
        "colab": {
          "base_uri": "https://localhost:8080/",
          "height": 1000
        },
        "id": "Wteo1SvM81uY",
        "outputId": "75a75b9b-e742-48f3-c1cf-2f365eb39456"
      },
      "outputs": [
        {
          "output_type": "display_data",
          "data": {
            "text/plain": [
              "<Figure size 1800x1200 with 1 Axes>"
            ],
            "image/png": "[encoded data removed]"
          },
          "metadata": {}
        }
      ],
      "source": [
        "# Calculate average price for each type of furnishing\n",
        "\n",
        "plt.figure(figsize=(18,12))\n",
        "average_prices = df.groupby('Furnished')['Price'].mean()\n",
        "\n",
        "# Create a bar plot\n",
        "plt.bar(average_prices.index, average_prices.values)\n",
        "\n",
        "# Set plot title and labels\n",
        "plt.title('Average Price by Furnish Type')\n",
        "plt.xlabel('Furnish Types')\n",
        "plt.ylabel('Average Price')\n",
        "\n",
        "# Show the plot\n",
        "plt.show()"
      ]
    },
    {
      "cell_type": "code",
      "execution_count": null,
      "metadata": {
        "colab": {
          "base_uri": "https://localhost:8080/"
        },
        "id": "rtdVPJ0-81rC",
        "outputId": "8dfec06a-576b-457a-ddb9-c9f843290062"
      },
      "outputs": [
        {
          "output_type": "execute_result",
          "data": {
            "text/plain": [
              "array(['Chevron Lekki Lagos',\n",
              "       'Regent Park Estate, Oribanwa Phase 2, Off Epe Express Way, Awoyaya, Oribanwa Ibeju Lekki Lagos',\n",
              "       'Osapa London Lekki Lagos', 'Phase 1, Lekki Lagos',\n",
              "       'Parkview Estate Ikoyi Lagos',\n",
              "       '10 Seed School, Off Gbangbala Street, Ikate Lekki Lagos',\n",
              "       'Startime Estate, Amuwo Odofin Lagos', 'Victoria Island Lagos',\n",
              "       'Ologolo Lekki Lagos', 'Lekki Phase 1 Lekki Lagos',\n",
              "       'Ikate Lekki Lagos', 'Ajah Lagos',\n",
              "       '10 Seed School, Off Gbangbala Street, Elegushi Ikate Lekki Lagos',\n",
              "       'Ikota Lekki Lagos', 'Oniru Victoria Island Lagos',\n",
              "       'Chevron Toll Gate, Chevron Lekki Lagos',\n",
              "       'Greenland Estate Olokonla Ajah Lagos',\n",
              "       '4 Dada Fayemi Close, Off Chief Bamidele Street Osapa London Lekki Lagos',\n",
              "       'Jibowu Yaba Lagos',\n",
              "       'Chevron Toll Gate, Orchid Road, Chevron Lekki Lagos',\n",
              "       'Jahi Abuja', 'Chevron Toll Gate, Lekki Lagos',\n",
              "       'Lekki County Homes, Ikota Lekki Lagos',\n",
              "       'Orchid Road, Along Lekki Expressway Lekki Lagos',\n",
              "       'Lakeview Estate, Apple Junction Amuwo Odofin Lagos',\n",
              "       'Banana Island Ikoyi Lagos', 'Banana Island Road Ikoyi Lagos'],\n",
              "      dtype=object)"
            ]
          },
          "metadata": {},
          "execution_count": 407
        }
      ],
      "source": [
        "df['Location'].unique()"
      ]
    },
    {
      "cell_type": "code",
      "execution_count": null,
      "metadata": {
        "id": "G85TQPN781n2"
      },
      "outputs": [],
      "source": [
        "\n",
        "location_list = ['Chevron', 'Ikate', 'Maruwa','Ikota', 'Orchid',  'Igbo Efon', 'Ologolo',\n",
        "                'Osapa London', 'Agungi', 'Nicon', 'Salem', 'Ikate-Elegushi', 'Ajah', 'Thomas Estate', 'Phase 1', 'Osapa london'\n",
        "                'Olokonla', 'Abijo', 'Lafiaji', 'Sangotedo', 'Idado', 'Elf',\n",
        "                'Mobil','VGC', 'Vgc','Victoria Island', 'Bodije', 'Ikeja', 'Yaba',\n",
        "                 'Ibeju', 'Ikoyi', 'Ikorodu', 'Lokogoma', 'Jabi', 'Wumba',\n",
        "                 'Ogba', 'Surulere', 'Shomolu', 'Kaura', 'Ketu', 'Garki 1', 'Galadimawa', 'Garki 2',\n",
        "                 'Maryland', 'Agege', 'Gbagada', 'Magodo', 'Merian', 'Onikolobo', 'Akala', 'Oluyole', 'Asaye', 'Iju',\n",
        "                 'Gwarinpa', 'Amuwo Odofin', 'Egbeda', 'Wuse 2', 'Wuye', 'Ilasan', 'Ajah', 'Iyanganku', 'Bodija', 'Samonda', 'Akobo', 'Maitama', 'Guzape',\n",
        "                 'Asokoro', 'Jabi', 'Ojodu', 'Ipaja', 'Bariga', 'Elegushi', 'Ogudu', 'Apete', 'Toll Gate', 'Apo', 'Agodi', 'Oke Afa', 'Ajao Estate', 'Awoyaya', 'Jahi']\n",
        "\n",
        "for index, row in df.iterrows():\n",
        "  for loc_ in location_list:\n",
        "    if loc_ in row['Location']:\n",
        "      df.loc[index, 'Loc'] = loc_\n",
        "\n"
      ]
    },
    {
      "cell_type": "code",
      "execution_count": null,
      "metadata": {
        "colab": {
          "base_uri": "https://localhost:8080/"
        },
        "id": "kk8o1tgwCaQJ",
        "outputId": "40504707-929e-401e-f264-80f0e9560e20"
      },
      "outputs": [
        {
          "output_type": "execute_result",
          "data": {
            "text/plain": [
              "array(['Chevron', 'Awoyaya', 'Osapa London', 'Phase 1', 'Ikoyi', 'Ikate',\n",
              "       'Amuwo Odofin', 'Victoria Island', 'Ologolo', 'Ajah', 'Elegushi',\n",
              "       'Ikota', 'Toll Gate', 'Yaba', 'Jahi', 'Orchid'], dtype=object)"
            ]
          },
          "metadata": {},
          "execution_count": 409
        }
      ],
      "source": [
        "df['Loc'].unique()"
      ]
    },
    {
      "cell_type": "code",
      "execution_count": null,
      "metadata": {
        "colab": {
          "base_uri": "https://localhost:8080/"
        },
        "id": "XguDEBNNQcHB",
        "outputId": "35734ce2-29d5-4ad8-be7e-b956c3389d29"
      },
      "outputs": [
        {
          "output_type": "execute_result",
          "data": {
            "text/plain": [
              "Chevron            13993\n",
              "Toll Gate          13993\n",
              "Phase 1            11994\n",
              "Ikate               9995\n",
              "Osapa London        5997\n",
              "Ikoyi               5997\n",
              "Victoria Island     5997\n",
              "Ologolo             5997\n",
              "Ikota               5997\n",
              "Amuwo Odofin        3998\n",
              "Ajah                3998\n",
              "Awoyaya             1999\n",
              "Elegushi            1999\n",
              "Yaba                1999\n",
              "Jahi                1999\n",
              "Orchid              1999\n",
              "Name: Loc, dtype: int64"
            ]
          },
          "metadata": {},
          "execution_count": 410
        }
      ],
      "source": [
        "df['Loc'].value_counts()"
      ]
    },
    {
      "cell_type": "code",
      "execution_count": null,
      "metadata": {
        "colab": {
          "base_uri": "https://localhost:8080/"
        },
        "id": "fFERGUg-APaA",
        "outputId": "165a99c9-7e82-4f58-91ed-44f4ae5a1aba"
      },
      "outputs": [
        {
          "output_type": "execute_result",
          "data": {
            "text/plain": [
              "0"
            ]
          },
          "metadata": {},
          "execution_count": 411
        }
      ],
      "source": [
        "df['Loc'].isnull().sum()"
      ]
    },
    {
      "cell_type": "code",
      "execution_count": null,
      "metadata": {
        "id": "bkwY1FPoA54W"
      },
      "outputs": [],
      "source": [
        "for index, row in df.iterrows():\n",
        "  if 'Toll Gate' in row['Loc'] and 'Orchid' in row['Location']:\n",
        "    df.loc[index, 'Loc'] = 'Orchid'\n",
        "    # print(toll_split)"
      ]
    },
    {
      "cell_type": "code",
      "execution_count": null,
      "metadata": {
        "id": "THbON6o6xKsr"
      },
      "outputs": [],
      "source": [
        "for index, row in df.iterrows():\n",
        "  if 'Toll Gate' in row['Loc'] and 'Orchid' not in row['Location']:\n",
        "    toll_split = row['Location'].split(\" \")\n",
        "    df.loc[index, 'Loc'] = 'Chevron'"
      ]
    },
    {
      "cell_type": "code",
      "source": [
        "for index, row in df.iterrows():\n",
        "  if 'Yaba' in row['Loc']:\n",
        "    yaba_split = row['Location'].split(\" \")[0]\n",
        "    df.loc[index, 'Loc'] = yaba_split\n",
        "    # print(yaba_split)"
      ],
      "metadata": {
        "id": "NJa35OhKVnXq"
      },
      "execution_count": null,
      "outputs": []
    },
    {
      "cell_type": "code",
      "source": [
        "for index, row in df.iterrows():\n",
        "  if 'Phase 1' in row['Loc']:\n",
        "    df.loc[index, 'Loc'] = 'Phase 1, Lekki'"
      ],
      "metadata": {
        "id": "KzQ2woI7WjHQ"
      },
      "execution_count": null,
      "outputs": []
    },
    {
      "cell_type": "code",
      "source": [
        "for index, row in df.iterrows():\n",
        "  if 'Ikate' in row['Loc']:\n",
        "    df.loc[index, 'Loc'] = 'Ikate Lekki'"
      ],
      "metadata": {
        "id": "bHrGa-PmWvMV"
      },
      "execution_count": null,
      "outputs": []
    },
    {
      "cell_type": "code",
      "execution_count": null,
      "metadata": {
        "id": "UnD3iynp6qWw",
        "colab": {
          "base_uri": "https://localhost:8080/"
        },
        "outputId": "c3bca025-c96d-424d-df34-730cbc239f57"
      },
      "outputs": [
        {
          "output_type": "execute_result",
          "data": {
            "text/plain": [
              "Chevron            25987\n",
              "Phase 1, Lekki     11994\n",
              "Ikate Lekki         9995\n",
              "Osapa London        5997\n",
              "Ikoyi               5997\n",
              "Victoria Island     5997\n",
              "Ologolo             5997\n",
              "Ikota               5997\n",
              "Amuwo Odofin        3998\n",
              "Ajah                3998\n",
              "Orchid              3998\n",
              "Awoyaya             1999\n",
              "Elegushi            1999\n",
              "Jibowu              1999\n",
              "Jahi                1999\n",
              "Name: Loc, dtype: int64"
            ]
          },
          "metadata": {},
          "execution_count": 417
        }
      ],
      "source": [
        "df['Loc'].value_counts()"
      ]
    },
    {
      "cell_type": "code",
      "execution_count": null,
      "metadata": {
        "id": "EdrTiJ_J5uF7",
        "colab": {
          "base_uri": "https://localhost:8080/"
        },
        "outputId": "6d42b197-b50a-4858-9c89-a0c60eeceb47"
      },
      "outputs": [
        {
          "output_type": "execute_result",
          "data": {
            "text/plain": [
              "0"
            ]
          },
          "metadata": {},
          "execution_count": 418
        }
      ],
      "source": [
        "df['Loc'].isnull().sum()"
      ]
    },
    {
      "cell_type": "code",
      "execution_count": null,
      "metadata": {
        "id": "zcceGbmc-F06",
        "colab": {
          "base_uri": "https://localhost:8080/",
          "height": 310
        },
        "outputId": "3b7e78e9-f622-4ead-8680-0493c1f20235"
      },
      "outputs": [
        {
          "output_type": "execute_result",
          "data": {
            "text/plain": [
              "   Unnamed: 0       Date                          Description  \\\n",
              "0           0 2023-07-26  1 BEDROOM FLAT / APARTMENT FOR RENT   \n",
              "1           1 2023-08-15  2 BEDROOM FLAT / APARTMENT FOR RENT   \n",
              "2           2 2023-08-04  1 BEDROOM FLAT / APARTMENT FOR RENT   \n",
              "3           3 2023-08-02             3 BEDROOM HOUSE FOR RENT   \n",
              "4           4 2023-08-02             1 BEDROOM HOUSE FOR RENT   \n",
              "\n",
              "                                   Type  \\\n",
              "0  1 ensuite room in a shared apartment   \n",
              "1                   2 bedroom apartment   \n",
              "2                    serviced mini flat   \n",
              "3            luxury 3 bedroom penthouse   \n",
              "4          serviced 1 bedroom apartment   \n",
              "\n",
              "                                            Location  Number Of Bedrooms  \\\n",
              "0                                Chevron Lekki Lagos                   1   \n",
              "1  Regent Park Estate, Oribanwa Phase 2, Off Epe ...                   2   \n",
              "2                           Osapa London Lekki Lagos                   1   \n",
              "3                               Phase 1, Lekki Lagos                   3   \n",
              "4                               Phase 1, Lekki Lagos                   1   \n",
              "\n",
              "                Furnished Currency     Price     Property_type             Loc  \n",
              "0  Serviced & Newly Built        ₦    650000  shared apartment         Chevron  \n",
              "1             Newly Built        ₦   1000000              flat         Awoyaya  \n",
              "2  Serviced & Newly Built        ₦   2000000         mini flat    Osapa London  \n",
              "3  Serviced & Newly Built        ₦  11000000         penthouse  Phase 1, Lekki  \n",
              "4  Serviced & Newly Built        ₦   4000000              flat  Phase 1, Lekki  "
            ],
            "text/html": [
              "\n",
              "  <div id=\"df-9727a240-a99a-4459-a315-9fa1386aa278\" class=\"colab-df-container\">\n",
              "    <div>\n",
              "<style scoped>\n",
              "    .dataframe tbody tr th:only-of-type {\n",
              "        vertical-align: middle;\n",
              "    }\n",
              "\n",
              "    .dataframe tbody tr th {\n",
              "        vertical-align: top;\n",
              "    }\n",
              "\n",
              "    .dataframe thead th {\n",
              "        text-align: right;\n",
              "    }\n",
              "</style>\n",
              "<table border=\"1\" class=\"dataframe\">\n",
              "  <thead>\n",
              "    <tr style=\"text-align: right;\">\n",
              "      <th></th>\n",
              "      <th>Unnamed: 0</th>\n",
              "      <th>Date</th>\n",
              "      <th>Description</th>\n",
              "      <th>Type</th>\n",
              "      <th>Location</th>\n",
              "      <th>Number Of Bedrooms</th>\n",
              "      <th>Furnished</th>\n",
              "      <th>Currency</th>\n",
              "      <th>Price</th>\n",
              "      <th>Property_type</th>\n",
              "      <th>Loc</th>\n",
              "    </tr>\n",
              "  </thead>\n",
              "  <tbody>\n",
              "    <tr>\n",
              "      <th>0</th>\n",
              "      <td>0</td>\n",
              "      <td>2023-07-26</td>\n",
              "      <td>1 BEDROOM FLAT / APARTMENT FOR RENT</td>\n",
              "      <td>1 ensuite room in a shared apartment</td>\n",
              "      <td>Chevron Lekki Lagos</td>\n",
              "      <td>1</td>\n",
              "      <td>Serviced &amp; Newly Built</td>\n",
              "      <td>₦</td>\n",
              "      <td>650000</td>\n",
              "      <td>shared apartment</td>\n",
              "      <td>Chevron</td>\n",
              "    </tr>\n",
              "    <tr>\n",
              "      <th>1</th>\n",
              "      <td>1</td>\n",
              "      <td>2023-08-15</td>\n",
              "      <td>2 BEDROOM FLAT / APARTMENT FOR RENT</td>\n",
              "      <td>2 bedroom apartment</td>\n",
              "      <td>Regent Park Estate, Oribanwa Phase 2, Off Epe ...</td>\n",
              "      <td>2</td>\n",
              "      <td>Newly Built</td>\n",
              "      <td>₦</td>\n",
              "      <td>1000000</td>\n",
              "      <td>flat</td>\n",
              "      <td>Awoyaya</td>\n",
              "    </tr>\n",
              "    <tr>\n",
              "      <th>2</th>\n",
              "      <td>2</td>\n",
              "      <td>2023-08-04</td>\n",
              "      <td>1 BEDROOM FLAT / APARTMENT FOR RENT</td>\n",
              "      <td>serviced mini flat</td>\n",
              "      <td>Osapa London Lekki Lagos</td>\n",
              "      <td>1</td>\n",
              "      <td>Serviced &amp; Newly Built</td>\n",
              "      <td>₦</td>\n",
              "      <td>2000000</td>\n",
              "      <td>mini flat</td>\n",
              "      <td>Osapa London</td>\n",
              "    </tr>\n",
              "    <tr>\n",
              "      <th>3</th>\n",
              "      <td>3</td>\n",
              "      <td>2023-08-02</td>\n",
              "      <td>3 BEDROOM HOUSE FOR RENT</td>\n",
              "      <td>luxury 3 bedroom penthouse</td>\n",
              "      <td>Phase 1, Lekki Lagos</td>\n",
              "      <td>3</td>\n",
              "      <td>Serviced &amp; Newly Built</td>\n",
              "      <td>₦</td>\n",
              "      <td>11000000</td>\n",
              "      <td>penthouse</td>\n",
              "      <td>Phase 1, Lekki</td>\n",
              "    </tr>\n",
              "    <tr>\n",
              "      <th>4</th>\n",
              "      <td>4</td>\n",
              "      <td>2023-08-02</td>\n",
              "      <td>1 BEDROOM HOUSE FOR RENT</td>\n",
              "      <td>serviced 1 bedroom apartment</td>\n",
              "      <td>Phase 1, Lekki Lagos</td>\n",
              "      <td>1</td>\n",
              "      <td>Serviced &amp; Newly Built</td>\n",
              "      <td>₦</td>\n",
              "      <td>4000000</td>\n",
              "      <td>flat</td>\n",
              "      <td>Phase 1, Lekki</td>\n",
              "    </tr>\n",
              "  </tbody>\n",
              "</table>\n",
              "</div>\n",
              "    <div class=\"colab-df-buttons\">\n",
              "\n",
              "  <div class=\"colab-df-container\">\n",
              "    <button class=\"colab-df-convert\" onclick=\"convertToInteractive('df-9727a240-a99a-4459-a315-9fa1386aa278')\"\n",
              "            title=\"Convert this dataframe to an interactive table.\"\n",
              "            style=\"display:none;\">\n",
              "\n",
              "  <svg xmlns=\"http://www.w3.org/2000/svg\" height=\"24px\" viewBox=\"0 -960 960 960\">\n",
              "    <path d=\"M120-120v-720h720v720H120Zm60-500h600v-160H180v160Zm220 220h160v-160H400v160Zm0 220h160v-160H400v160ZM180-400h160v-160H180v160Zm440 0h160v-160H620v160ZM180-180h160v-160H180v160Zm440 0h160v-160H620v160Z\"/>\n",
              "  </svg>\n",
              "    </button>\n",
              "\n",
              "  <style>\n",
              "    .colab-df-container {\n",
              "      display:flex;\n",
              "      gap: 12px;\n",
              "    }\n",
              "\n",
              "    .colab-df-convert {\n",
              "      background-color: #E8F0FE;\n",
              "      border: none;\n",
              "      border-radius: 50%;\n",
              "      cursor: pointer;\n",
              "      display: none;\n",
              "      fill: #1967D2;\n",
              "      height: 32px;\n",
              "      padding: 0 0 0 0;\n",
              "      width: 32px;\n",
              "    }\n",
              "\n",
              "    .colab-df-convert:hover {\n",
              "      background-color: #E2EBFA;\n",
              "      box-shadow: 0px 1px 2px rgba(60, 64, 67, 0.3), 0px 1px 3px 1px rgba(60, 64, 67, 0.15);\n",
              "      fill: #174EA6;\n",
              "    }\n",
              "\n",
              "    .colab-df-buttons div {\n",
              "      margin-bottom: 4px;\n",
              "    }\n",
              "\n",
              "    [theme=dark] .colab-df-convert {\n",
              "      background-color: #3B4455;\n",
              "      fill: #D2E3FC;\n",
              "    }\n",
              "\n",
              "    [theme=dark] .colab-df-convert:hover {\n",
              "      background-color: #434B5C;\n",
              "      box-shadow: 0px 1px 3px 1px rgba(0, 0, 0, 0.15);\n",
              "      filter: drop-shadow(0px 1px 2px rgba(0, 0, 0, 0.3));\n",
              "      fill: #FFFFFF;\n",
              "    }\n",
              "  </style>\n",
              "\n",
              "    <script>\n",
              "      const buttonEl =\n",
              "        document.querySelector('#df-9727a240-a99a-4459-a315-9fa1386aa278 button.colab-df-convert');\n",
              "      buttonEl.style.display =\n",
              "        google.colab.kernel.accessAllowed ? 'block' : 'none';\n",
              "\n",
              "      async function convertToInteractive(key) {\n",
              "        const element = document.querySelector('#df-9727a240-a99a-4459-a315-9fa1386aa278');\n",
              "        const dataTable =\n",
              "          await google.colab.kernel.invokeFunction('convertToInteractive',\n",
              "                                                    [key], {});\n",
              "        if (!dataTable) return;\n",
              "\n",
              "        const docLinkHtml = 'Like what you see? Visit the ' +\n",
              "          '<a target=\"_blank\" href=https://colab.research.google.com/notebooks/data_table.ipynb>data table notebook</a>'\n",
              "          + ' to learn more about interactive tables.';\n",
              "        element.innerHTML = '';\n",
              "        dataTable['output_type'] = 'display_data';\n",
              "        await google.colab.output.renderOutput(dataTable, element);\n",
              "        const docLink = document.createElement('div');\n",
              "        docLink.innerHTML = docLinkHtml;\n",
              "        element.appendChild(docLink);\n",
              "      }\n",
              "    </script>\n",
              "  </div>\n",
              "\n",
              "\n",
              "<div id=\"df-dbbf763f-7a94-4d10-92ac-d53213f0c9f8\">\n",
              "  <button class=\"colab-df-quickchart\" onclick=\"quickchart('df-dbbf763f-7a94-4d10-92ac-d53213f0c9f8')\"\n",
              "            title=\"Suggest charts.\"\n",
              "            style=\"display:none;\">\n",
              "\n",
              "<svg xmlns=\"http://www.w3.org/2000/svg\" height=\"24px\"viewBox=\"0 0 24 24\"\n",
              "     width=\"24px\">\n",
              "    <g>\n",
              "        <path d=\"M19 3H5c-1.1 0-2 .9-2 2v14c0 1.1.9 2 2 2h14c1.1 0 2-.9 2-2V5c0-1.1-.9-2-2-2zM9 17H7v-7h2v7zm4 0h-2V7h2v10zm4 0h-2v-4h2v4z\"/>\n",
              "    </g>\n",
              "</svg>\n",
              "  </button>\n",
              "\n",
              "<style>\n",
              "  .colab-df-quickchart {\n",
              "    background-color: #E8F0FE;\n",
              "    border: none;\n",
              "    border-radius: 50%;\n",
              "    cursor: pointer;\n",
              "    display: none;\n",
              "    fill: #1967D2;\n",
              "    height: 32px;\n",
              "    padding: 0 0 0 0;\n",
              "    width: 32px;\n",
              "  }\n",
              "\n",
              "  .colab-df-quickchart:hover {\n",
              "    background-color: #E2EBFA;\n",
              "    box-shadow: 0px 1px 2px rgba(60, 64, 67, 0.3), 0px 1px 3px 1px rgba(60, 64, 67, 0.15);\n",
              "    fill: #174EA6;\n",
              "  }\n",
              "\n",
              "  [theme=dark] .colab-df-quickchart {\n",
              "    background-color: #3B4455;\n",
              "    fill: #D2E3FC;\n",
              "  }\n",
              "\n",
              "  [theme=dark] .colab-df-quickchart:hover {\n",
              "    background-color: #434B5C;\n",
              "    box-shadow: 0px 1px 3px 1px rgba(0, 0, 0, 0.15);\n",
              "    filter: drop-shadow(0px 1px 2px rgba(0, 0, 0, 0.3));\n",
              "    fill: #FFFFFF;\n",
              "  }\n",
              "</style>\n",
              "\n",
              "  <script>\n",
              "    async function quickchart(key) {\n",
              "      const charts = await google.colab.kernel.invokeFunction(\n",
              "          'suggestCharts', [key], {});\n",
              "    }\n",
              "    (() => {\n",
              "      let quickchartButtonEl =\n",
              "        document.querySelector('#df-dbbf763f-7a94-4d10-92ac-d53213f0c9f8 button');\n",
              "      quickchartButtonEl.style.display =\n",
              "        google.colab.kernel.accessAllowed ? 'block' : 'none';\n",
              "    })();\n",
              "  </script>\n",
              "</div>\n",
              "    </div>\n",
              "  </div>\n"
            ]
          },
          "metadata": {},
          "execution_count": 419
        }
      ],
      "source": [
        "df.head()"
      ]
    },
    {
      "cell_type": "code",
      "execution_count": null,
      "metadata": {
        "id": "bEpBXoFa9lSu"
      },
      "outputs": [],
      "source": [
        "for index, row in df.iterrows():\n",
        "  df_loc= str(row['Location'])\n",
        "  df_split= row['Location'].split(' ')[-1]\n",
        "  df.loc[index, 'State'] = df_split"
      ]
    },
    {
      "cell_type": "code",
      "execution_count": null,
      "metadata": {
        "id": "NBnMYeWV9lN2",
        "colab": {
          "base_uri": "https://localhost:8080/"
        },
        "outputId": "4e0ee915-eda4-4b16-892d-30ca4e6d2302"
      },
      "outputs": [
        {
          "output_type": "execute_result",
          "data": {
            "text/plain": [
              "array(['Lagos', 'Abuja'], dtype=object)"
            ]
          },
          "metadata": {},
          "execution_count": 421
        }
      ],
      "source": [
        "df['State'].unique()"
      ]
    },
    {
      "cell_type": "code",
      "execution_count": null,
      "metadata": {
        "id": "46iooZX9Bbo2",
        "colab": {
          "base_uri": "https://localhost:8080/",
          "height": 310
        },
        "outputId": "8f58f8c7-bf5b-44ba-99a3-db9bda432ccc"
      },
      "outputs": [
        {
          "output_type": "execute_result",
          "data": {
            "text/plain": [
              "   Unnamed: 0       Date                          Description  \\\n",
              "0           0 2023-07-26  1 BEDROOM FLAT / APARTMENT FOR RENT   \n",
              "1           1 2023-08-15  2 BEDROOM FLAT / APARTMENT FOR RENT   \n",
              "2           2 2023-08-04  1 BEDROOM FLAT / APARTMENT FOR RENT   \n",
              "3           3 2023-08-02             3 BEDROOM HOUSE FOR RENT   \n",
              "4           4 2023-08-02             1 BEDROOM HOUSE FOR RENT   \n",
              "\n",
              "                                   Type  \\\n",
              "0  1 ensuite room in a shared apartment   \n",
              "1                   2 bedroom apartment   \n",
              "2                    serviced mini flat   \n",
              "3            luxury 3 bedroom penthouse   \n",
              "4          serviced 1 bedroom apartment   \n",
              "\n",
              "                                            Location  Number Of Bedrooms  \\\n",
              "0                                Chevron Lekki Lagos                   1   \n",
              "1  Regent Park Estate, Oribanwa Phase 2, Off Epe ...                   2   \n",
              "2                           Osapa London Lekki Lagos                   1   \n",
              "3                               Phase 1, Lekki Lagos                   3   \n",
              "4                               Phase 1, Lekki Lagos                   1   \n",
              "\n",
              "                Furnished Currency     Price     Property_type  \\\n",
              "0  Serviced & Newly Built        ₦    650000  shared apartment   \n",
              "1             Newly Built        ₦   1000000              flat   \n",
              "2  Serviced & Newly Built        ₦   2000000         mini flat   \n",
              "3  Serviced & Newly Built        ₦  11000000         penthouse   \n",
              "4  Serviced & Newly Built        ₦   4000000              flat   \n",
              "\n",
              "              Loc  State  \n",
              "0         Chevron  Lagos  \n",
              "1         Awoyaya  Lagos  \n",
              "2    Osapa London  Lagos  \n",
              "3  Phase 1, Lekki  Lagos  \n",
              "4  Phase 1, Lekki  Lagos  "
            ],
            "text/html": [
              "\n",
              "  <div id=\"df-18047c23-1f6d-4ef3-b550-feb3ea75fd00\" class=\"colab-df-container\">\n",
              "    <div>\n",
              "<style scoped>\n",
              "    .dataframe tbody tr th:only-of-type {\n",
              "        vertical-align: middle;\n",
              "    }\n",
              "\n",
              "    .dataframe tbody tr th {\n",
              "        vertical-align: top;\n",
              "    }\n",
              "\n",
              "    .dataframe thead th {\n",
              "        text-align: right;\n",
              "    }\n",
              "</style>\n",
              "<table border=\"1\" class=\"dataframe\">\n",
              "  <thead>\n",
              "    <tr style=\"text-align: right;\">\n",
              "      <th></th>\n",
              "      <th>Unnamed: 0</th>\n",
              "      <th>Date</th>\n",
              "      <th>Description</th>\n",
              "      <th>Type</th>\n",
              "      <th>Location</th>\n",
              "      <th>Number Of Bedrooms</th>\n",
              "      <th>Furnished</th>\n",
              "      <th>Currency</th>\n",
              "      <th>Price</th>\n",
              "      <th>Property_type</th>\n",
              "      <th>Loc</th>\n",
              "      <th>State</th>\n",
              "    </tr>\n",
              "  </thead>\n",
              "  <tbody>\n",
              "    <tr>\n",
              "      <th>0</th>\n",
              "      <td>0</td>\n",
              "      <td>2023-07-26</td>\n",
              "      <td>1 BEDROOM FLAT / APARTMENT FOR RENT</td>\n",
              "      <td>1 ensuite room in a shared apartment</td>\n",
              "      <td>Chevron Lekki Lagos</td>\n",
              "      <td>1</td>\n",
              "      <td>Serviced &amp; Newly Built</td>\n",
              "      <td>₦</td>\n",
              "      <td>650000</td>\n",
              "      <td>shared apartment</td>\n",
              "      <td>Chevron</td>\n",
              "      <td>Lagos</td>\n",
              "    </tr>\n",
              "    <tr>\n",
              "      <th>1</th>\n",
              "      <td>1</td>\n",
              "      <td>2023-08-15</td>\n",
              "      <td>2 BEDROOM FLAT / APARTMENT FOR RENT</td>\n",
              "      <td>2 bedroom apartment</td>\n",
              "      <td>Regent Park Estate, Oribanwa Phase 2, Off Epe ...</td>\n",
              "      <td>2</td>\n",
              "      <td>Newly Built</td>\n",
              "      <td>₦</td>\n",
              "      <td>1000000</td>\n",
              "      <td>flat</td>\n",
              "      <td>Awoyaya</td>\n",
              "      <td>Lagos</td>\n",
              "    </tr>\n",
              "    <tr>\n",
              "      <th>2</th>\n",
              "      <td>2</td>\n",
              "      <td>2023-08-04</td>\n",
              "      <td>1 BEDROOM FLAT / APARTMENT FOR RENT</td>\n",
              "      <td>serviced mini flat</td>\n",
              "      <td>Osapa London Lekki Lagos</td>\n",
              "      <td>1</td>\n",
              "      <td>Serviced &amp; Newly Built</td>\n",
              "      <td>₦</td>\n",
              "      <td>2000000</td>\n",
              "      <td>mini flat</td>\n",
              "      <td>Osapa London</td>\n",
              "      <td>Lagos</td>\n",
              "    </tr>\n",
              "    <tr>\n",
              "      <th>3</th>\n",
              "      <td>3</td>\n",
              "      <td>2023-08-02</td>\n",
              "      <td>3 BEDROOM HOUSE FOR RENT</td>\n",
              "      <td>luxury 3 bedroom penthouse</td>\n",
              "      <td>Phase 1, Lekki Lagos</td>\n",
              "      <td>3</td>\n",
              "      <td>Serviced &amp; Newly Built</td>\n",
              "      <td>₦</td>\n",
              "      <td>11000000</td>\n",
              "      <td>penthouse</td>\n",
              "      <td>Phase 1, Lekki</td>\n",
              "      <td>Lagos</td>\n",
              "    </tr>\n",
              "    <tr>\n",
              "      <th>4</th>\n",
              "      <td>4</td>\n",
              "      <td>2023-08-02</td>\n",
              "      <td>1 BEDROOM HOUSE FOR RENT</td>\n",
              "      <td>serviced 1 bedroom apartment</td>\n",
              "      <td>Phase 1, Lekki Lagos</td>\n",
              "      <td>1</td>\n",
              "      <td>Serviced &amp; Newly Built</td>\n",
              "      <td>₦</td>\n",
              "      <td>4000000</td>\n",
              "      <td>flat</td>\n",
              "      <td>Phase 1, Lekki</td>\n",
              "      <td>Lagos</td>\n",
              "    </tr>\n",
              "  </tbody>\n",
              "</table>\n",
              "</div>\n",
              "    <div class=\"colab-df-buttons\">\n",
              "\n",
              "  <div class=\"colab-df-container\">\n",
              "    <button class=\"colab-df-convert\" onclick=\"convertToInteractive('df-18047c23-1f6d-4ef3-b550-feb3ea75fd00')\"\n",
              "            title=\"Convert this dataframe to an interactive table.\"\n",
              "            style=\"display:none;\">\n",
              "\n",
              "  <svg xmlns=\"http://www.w3.org/2000/svg\" height=\"24px\" viewBox=\"0 -960 960 960\">\n",
              "    <path d=\"M120-120v-720h720v720H120Zm60-500h600v-160H180v160Zm220 220h160v-160H400v160Zm0 220h160v-160H400v160ZM180-400h160v-160H180v160Zm440 0h160v-160H620v160ZM180-180h160v-160H180v160Zm440 0h160v-160H620v160Z\"/>\n",
              "  </svg>\n",
              "    </button>\n",
              "\n",
              "  <style>\n",
              "    .colab-df-container {\n",
              "      display:flex;\n",
              "      gap: 12px;\n",
              "    }\n",
              "\n",
              "    .colab-df-convert {\n",
              "      background-color: #E8F0FE;\n",
              "      border: none;\n",
              "      border-radius: 50%;\n",
              "      cursor: pointer;\n",
              "      display: none;\n",
              "      fill: #1967D2;\n",
              "      height: 32px;\n",
              "      padding: 0 0 0 0;\n",
              "      width: 32px;\n",
              "    }\n",
              "\n",
              "    .colab-df-convert:hover {\n",
              "      background-color: #E2EBFA;\n",
              "      box-shadow: 0px 1px 2px rgba(60, 64, 67, 0.3), 0px 1px 3px 1px rgba(60, 64, 67, 0.15);\n",
              "      fill: #174EA6;\n",
              "    }\n",
              "\n",
              "    .colab-df-buttons div {\n",
              "      margin-bottom: 4px;\n",
              "    }\n",
              "\n",
              "    [theme=dark] .colab-df-convert {\n",
              "      background-color: #3B4455;\n",
              "      fill: #D2E3FC;\n",
              "    }\n",
              "\n",
              "    [theme=dark] .colab-df-convert:hover {\n",
              "      background-color: #434B5C;\n",
              "      box-shadow: 0px 1px 3px 1px rgba(0, 0, 0, 0.15);\n",
              "      filter: drop-shadow(0px 1px 2px rgba(0, 0, 0, 0.3));\n",
              "      fill: #FFFFFF;\n",
              "    }\n",
              "  </style>\n",
              "\n",
              "    <script>\n",
              "      const buttonEl =\n",
              "        document.querySelector('#df-18047c23-1f6d-4ef3-b550-feb3ea75fd00 button.colab-df-convert');\n",
              "      buttonEl.style.display =\n",
              "        google.colab.kernel.accessAllowed ? 'block' : 'none';\n",
              "\n",
              "      async function convertToInteractive(key) {\n",
              "        const element = document.querySelector('#df-18047c23-1f6d-4ef3-b550-feb3ea75fd00');\n",
              "        const dataTable =\n",
              "          await google.colab.kernel.invokeFunction('convertToInteractive',\n",
              "                                                    [key], {});\n",
              "        if (!dataTable) return;\n",
              "\n",
              "        const docLinkHtml = 'Like what you see? Visit the ' +\n",
              "          '<a target=\"_blank\" href=https://colab.research.google.com/notebooks/data_table.ipynb>data table notebook</a>'\n",
              "          + ' to learn more about interactive tables.';\n",
              "        element.innerHTML = '';\n",
              "        dataTable['output_type'] = 'display_data';\n",
              "        await google.colab.output.renderOutput(dataTable, element);\n",
              "        const docLink = document.createElement('div');\n",
              "        docLink.innerHTML = docLinkHtml;\n",
              "        element.appendChild(docLink);\n",
              "      }\n",
              "    </script>\n",
              "  </div>\n",
              "\n",
              "\n",
              "<div id=\"df-ca631c55-cef8-4fd6-a8d4-0dcbdccd326f\">\n",
              "  <button class=\"colab-df-quickchart\" onclick=\"quickchart('df-ca631c55-cef8-4fd6-a8d4-0dcbdccd326f')\"\n",
              "            title=\"Suggest charts.\"\n",
              "            style=\"display:none;\">\n",
              "\n",
              "<svg xmlns=\"http://www.w3.org/2000/svg\" height=\"24px\"viewBox=\"0 0 24 24\"\n",
              "     width=\"24px\">\n",
              "    <g>\n",
              "        <path d=\"M19 3H5c-1.1 0-2 .9-2 2v14c0 1.1.9 2 2 2h14c1.1 0 2-.9 2-2V5c0-1.1-.9-2-2-2zM9 17H7v-7h2v7zm4 0h-2V7h2v10zm4 0h-2v-4h2v4z\"/>\n",
              "    </g>\n",
              "</svg>\n",
              "  </button>\n",
              "\n",
              "<style>\n",
              "  .colab-df-quickchart {\n",
              "    background-color: #E8F0FE;\n",
              "    border: none;\n",
              "    border-radius: 50%;\n",
              "    cursor: pointer;\n",
              "    display: none;\n",
              "    fill: #1967D2;\n",
              "    height: 32px;\n",
              "    padding: 0 0 0 0;\n",
              "    width: 32px;\n",
              "  }\n",
              "\n",
              "  .colab-df-quickchart:hover {\n",
              "    background-color: #E2EBFA;\n",
              "    box-shadow: 0px 1px 2px rgba(60, 64, 67, 0.3), 0px 1px 3px 1px rgba(60, 64, 67, 0.15);\n",
              "    fill: #174EA6;\n",
              "  }\n",
              "\n",
              "  [theme=dark] .colab-df-quickchart {\n",
              "    background-color: #3B4455;\n",
              "    fill: #D2E3FC;\n",
              "  }\n",
              "\n",
              "  [theme=dark] .colab-df-quickchart:hover {\n",
              "    background-color: #434B5C;\n",
              "    box-shadow: 0px 1px 3px 1px rgba(0, 0, 0, 0.15);\n",
              "    filter: drop-shadow(0px 1px 2px rgba(0, 0, 0, 0.3));\n",
              "    fill: #FFFFFF;\n",
              "  }\n",
              "</style>\n",
              "\n",
              "  <script>\n",
              "    async function quickchart(key) {\n",
              "      const charts = await google.colab.kernel.invokeFunction(\n",
              "          'suggestCharts', [key], {});\n",
              "    }\n",
              "    (() => {\n",
              "      let quickchartButtonEl =\n",
              "        document.querySelector('#df-ca631c55-cef8-4fd6-a8d4-0dcbdccd326f button');\n",
              "      quickchartButtonEl.style.display =\n",
              "        google.colab.kernel.accessAllowed ? 'block' : 'none';\n",
              "    })();\n",
              "  </script>\n",
              "</div>\n",
              "    </div>\n",
              "  </div>\n"
            ]
          },
          "metadata": {},
          "execution_count": 422
        }
      ],
      "source": [
        "df.head()"
      ]
    },
    {
      "cell_type": "code",
      "execution_count": null,
      "metadata": {
        "id": "21DZpa0arVdK"
      },
      "outputs": [],
      "source": [
        "df.dropna(axis=0, inplace=True)"
      ]
    },
    {
      "cell_type": "code",
      "execution_count": null,
      "metadata": {
        "id": "WDmSj-jKqxRb",
        "colab": {
          "base_uri": "https://localhost:8080/"
        },
        "outputId": "1fa28a06-6268-4fb7-9415-af4c1a2345cb"
      },
      "outputs": [
        {
          "output_type": "execute_result",
          "data": {
            "text/plain": [
              "Unnamed: 0            0\n",
              "Date                  0\n",
              "Description           0\n",
              "Type                  0\n",
              "Location              0\n",
              "Number Of Bedrooms    0\n",
              "Furnished             0\n",
              "Currency              0\n",
              "Price                 0\n",
              "Property_type         0\n",
              "Loc                   0\n",
              "State                 0\n",
              "dtype: int64"
            ]
          },
          "metadata": {},
          "execution_count": 424
        }
      ],
      "source": [
        "df.isnull().sum()"
      ]
    },
    {
      "cell_type": "code",
      "execution_count": null,
      "metadata": {
        "id": "mQ2FtJe_-Ilk",
        "colab": {
          "base_uri": "https://localhost:8080/",
          "height": 614
        },
        "outputId": "ce8c9be3-43ea-4b74-b82a-bc181c36bb84"
      },
      "outputs": [
        {
          "output_type": "execute_result",
          "data": {
            "text/plain": [
              "       Unnamed: 0       Date                          Description  \\\n",
              "0               0 2023-07-26  1 BEDROOM FLAT / APARTMENT FOR RENT   \n",
              "1               1 2023-08-15  2 BEDROOM FLAT / APARTMENT FOR RENT   \n",
              "2               2 2023-08-04  1 BEDROOM FLAT / APARTMENT FOR RENT   \n",
              "3               3 2023-08-02             3 BEDROOM HOUSE FOR RENT   \n",
              "4               4 2023-08-02             1 BEDROOM HOUSE FOR RENT   \n",
              "...           ...        ...                                  ...   \n",
              "99945       99945 2023-07-24             4 BEDROOM HOUSE FOR RENT   \n",
              "99946       99946 2023-07-24             4 BEDROOM HOUSE FOR RENT   \n",
              "99947       99947 2023-08-02             4 BEDROOM HOUSE FOR RENT   \n",
              "99948       99948 2023-08-04             3 BEDROOM HOUSE FOR RENT   \n",
              "99949       99949 2023-08-01             4 BEDROOM HOUSE FOR RENT   \n",
              "\n",
              "                                             Type  \\\n",
              "0            1 ensuite room in a shared apartment   \n",
              "1                             2 bedroom apartment   \n",
              "2                              serviced mini flat   \n",
              "3                      luxury 3 bedroom penthouse   \n",
              "4                    serviced 1 bedroom apartment   \n",
              "...                                           ...   \n",
              "99945                   4 bedroom detached duplex   \n",
              "99946                    4 bedroom terrace duplex   \n",
              "99947            luxury 4 bedroom maisonette + bq   \n",
              "99948                serviced 3 bedroom apartment   \n",
              "99949  luxury 4 bedroom semi detached duplex + bq   \n",
              "\n",
              "                                                Location  Number Of Bedrooms  \\\n",
              "0                                    Chevron Lekki Lagos                   1   \n",
              "1      Regent Park Estate, Oribanwa Phase 2, Off Epe ...                   2   \n",
              "2                               Osapa London Lekki Lagos                   1   \n",
              "3                                   Phase 1, Lekki Lagos                   3   \n",
              "4                                   Phase 1, Lekki Lagos                   1   \n",
              "...                                                  ...                 ...   \n",
              "99945                                Chevron Lekki Lagos                   4   \n",
              "99946                                Ologolo Lekki Lagos                   4   \n",
              "99947                               Phase 1, Lekki Lagos                   4   \n",
              "99948                     Banana Island Road Ikoyi Lagos                   3   \n",
              "99949                     Chevron Toll Gate, Lekki Lagos                   4   \n",
              "\n",
              "                    Furnished Currency     Price         Property_type  \\\n",
              "0      Serviced & Newly Built        ₦    650000      shared apartment   \n",
              "1                 Newly Built        ₦   1000000                  flat   \n",
              "2      Serviced & Newly Built        ₦   2000000             mini flat   \n",
              "3      Serviced & Newly Built        ₦  11000000             penthouse   \n",
              "4      Serviced & Newly Built        ₦   4000000                  flat   \n",
              "...                       ...      ...       ...                   ...   \n",
              "99945  Serviced & Newly Built        ₦   5500000       detached duplex   \n",
              "99946    Furnished & Serviced        ₦   7000000        terrace duplex   \n",
              "99947  Serviced & Newly Built        ₦  10000000            maisonette   \n",
              "99948  Serviced & Newly Built        ₦  11000000                  flat   \n",
              "99949  Serviced & Newly Built        ₦   5000000  semi detached duplex   \n",
              "\n",
              "                  Loc  State  \n",
              "0             Chevron  Lagos  \n",
              "1             Awoyaya  Lagos  \n",
              "2        Osapa London  Lagos  \n",
              "3      Phase 1, Lekki  Lagos  \n",
              "4      Phase 1, Lekki  Lagos  \n",
              "...               ...    ...  \n",
              "99945         Chevron  Lagos  \n",
              "99946         Ologolo  Lagos  \n",
              "99947  Phase 1, Lekki  Lagos  \n",
              "99948           Ikoyi  Lagos  \n",
              "99949         Chevron  Lagos  \n",
              "\n",
              "[97951 rows x 12 columns]"
            ],
            "text/html": [
              "\n",
              "  <div id=\"df-988bacc4-8aa0-4189-b3eb-ecfebbba7b8f\" class=\"colab-df-container\">\n",
              "    <div>\n",
              "<style scoped>\n",
              "    .dataframe tbody tr th:only-of-type {\n",
              "        vertical-align: middle;\n",
              "    }\n",
              "\n",
              "    .dataframe tbody tr th {\n",
              "        vertical-align: top;\n",
              "    }\n",
              "\n",
              "    .dataframe thead th {\n",
              "        text-align: right;\n",
              "    }\n",
              "</style>\n",
              "<table border=\"1\" class=\"dataframe\">\n",
              "  <thead>\n",
              "    <tr style=\"text-align: right;\">\n",
              "      <th></th>\n",
              "      <th>Unnamed: 0</th>\n",
              "      <th>Date</th>\n",
              "      <th>Description</th>\n",
              "      <th>Type</th>\n",
              "      <th>Location</th>\n",
              "      <th>Number Of Bedrooms</th>\n",
              "      <th>Furnished</th>\n",
              "      <th>Currency</th>\n",
              "      <th>Price</th>\n",
              "      <th>Property_type</th>\n",
              "      <th>Loc</th>\n",
              "      <th>State</th>\n",
              "    </tr>\n",
              "  </thead>\n",
              "  <tbody>\n",
              "    <tr>\n",
              "      <th>0</th>\n",
              "      <td>0</td>\n",
              "      <td>2023-07-26</td>\n",
              "      <td>1 BEDROOM FLAT / APARTMENT FOR RENT</td>\n",
              "      <td>1 ensuite room in a shared apartment</td>\n",
              "      <td>Chevron Lekki Lagos</td>\n",
              "      <td>1</td>\n",
              "      <td>Serviced &amp; Newly Built</td>\n",
              "      <td>₦</td>\n",
              "      <td>650000</td>\n",
              "      <td>shared apartment</td>\n",
              "      <td>Chevron</td>\n",
              "      <td>Lagos</td>\n",
              "    </tr>\n",
              "    <tr>\n",
              "      <th>1</th>\n",
              "      <td>1</td>\n",
              "      <td>2023-08-15</td>\n",
              "      <td>2 BEDROOM FLAT / APARTMENT FOR RENT</td>\n",
              "      <td>2 bedroom apartment</td>\n",
              "      <td>Regent Park Estate, Oribanwa Phase 2, Off Epe ...</td>\n",
              "      <td>2</td>\n",
              "      <td>Newly Built</td>\n",
              "      <td>₦</td>\n",
              "      <td>1000000</td>\n",
              "      <td>flat</td>\n",
              "      <td>Awoyaya</td>\n",
              "      <td>Lagos</td>\n",
              "    </tr>\n",
              "    <tr>\n",
              "      <th>2</th>\n",
              "      <td>2</td>\n",
              "      <td>2023-08-04</td>\n",
              "      <td>1 BEDROOM FLAT / APARTMENT FOR RENT</td>\n",
              "      <td>serviced mini flat</td>\n",
              "      <td>Osapa London Lekki Lagos</td>\n",
              "      <td>1</td>\n",
              "      <td>Serviced &amp; Newly Built</td>\n",
              "      <td>₦</td>\n",
              "      <td>2000000</td>\n",
              "      <td>mini flat</td>\n",
              "      <td>Osapa London</td>\n",
              "      <td>Lagos</td>\n",
              "    </tr>\n",
              "    <tr>\n",
              "      <th>3</th>\n",
              "      <td>3</td>\n",
              "      <td>2023-08-02</td>\n",
              "      <td>3 BEDROOM HOUSE FOR RENT</td>\n",
              "      <td>luxury 3 bedroom penthouse</td>\n",
              "      <td>Phase 1, Lekki Lagos</td>\n",
              "      <td>3</td>\n",
              "      <td>Serviced &amp; Newly Built</td>\n",
              "      <td>₦</td>\n",
              "      <td>11000000</td>\n",
              "      <td>penthouse</td>\n",
              "      <td>Phase 1, Lekki</td>\n",
              "      <td>Lagos</td>\n",
              "    </tr>\n",
              "    <tr>\n",
              "      <th>4</th>\n",
              "      <td>4</td>\n",
              "      <td>2023-08-02</td>\n",
              "      <td>1 BEDROOM HOUSE FOR RENT</td>\n",
              "      <td>serviced 1 bedroom apartment</td>\n",
              "      <td>Phase 1, Lekki Lagos</td>\n",
              "      <td>1</td>\n",
              "      <td>Serviced &amp; Newly Built</td>\n",
              "      <td>₦</td>\n",
              "      <td>4000000</td>\n",
              "      <td>flat</td>\n",
              "      <td>Phase 1, Lekki</td>\n",
              "      <td>Lagos</td>\n",
              "    </tr>\n",
              "    <tr>\n",
              "      <th>...</th>\n",
              "      <td>...</td>\n",
              "      <td>...</td>\n",
              "      <td>...</td>\n",
              "      <td>...</td>\n",
              "      <td>...</td>\n",
              "      <td>...</td>\n",
              "      <td>...</td>\n",
              "      <td>...</td>\n",
              "      <td>...</td>\n",
              "      <td>...</td>\n",
              "      <td>...</td>\n",
              "      <td>...</td>\n",
              "    </tr>\n",
              "    <tr>\n",
              "      <th>99945</th>\n",
              "      <td>99945</td>\n",
              "      <td>2023-07-24</td>\n",
              "      <td>4 BEDROOM HOUSE FOR RENT</td>\n",
              "      <td>4 bedroom detached duplex</td>\n",
              "      <td>Chevron Lekki Lagos</td>\n",
              "      <td>4</td>\n",
              "      <td>Serviced &amp; Newly Built</td>\n",
              "      <td>₦</td>\n",
              "      <td>5500000</td>\n",
              "      <td>detached duplex</td>\n",
              "      <td>Chevron</td>\n",
              "      <td>Lagos</td>\n",
              "    </tr>\n",
              "    <tr>\n",
              "      <th>99946</th>\n",
              "      <td>99946</td>\n",
              "      <td>2023-07-24</td>\n",
              "      <td>4 BEDROOM HOUSE FOR RENT</td>\n",
              "      <td>4 bedroom terrace duplex</td>\n",
              "      <td>Ologolo Lekki Lagos</td>\n",
              "      <td>4</td>\n",
              "      <td>Furnished &amp; Serviced</td>\n",
              "      <td>₦</td>\n",
              "      <td>7000000</td>\n",
              "      <td>terrace duplex</td>\n",
              "      <td>Ologolo</td>\n",
              "      <td>Lagos</td>\n",
              "    </tr>\n",
              "    <tr>\n",
              "      <th>99947</th>\n",
              "      <td>99947</td>\n",
              "      <td>2023-08-02</td>\n",
              "      <td>4 BEDROOM HOUSE FOR RENT</td>\n",
              "      <td>luxury 4 bedroom maisonette + bq</td>\n",
              "      <td>Phase 1, Lekki Lagos</td>\n",
              "      <td>4</td>\n",
              "      <td>Serviced &amp; Newly Built</td>\n",
              "      <td>₦</td>\n",
              "      <td>10000000</td>\n",
              "      <td>maisonette</td>\n",
              "      <td>Phase 1, Lekki</td>\n",
              "      <td>Lagos</td>\n",
              "    </tr>\n",
              "    <tr>\n",
              "      <th>99948</th>\n",
              "      <td>99948</td>\n",
              "      <td>2023-08-04</td>\n",
              "      <td>3 BEDROOM HOUSE FOR RENT</td>\n",
              "      <td>serviced 3 bedroom apartment</td>\n",
              "      <td>Banana Island Road Ikoyi Lagos</td>\n",
              "      <td>3</td>\n",
              "      <td>Serviced &amp; Newly Built</td>\n",
              "      <td>₦</td>\n",
              "      <td>11000000</td>\n",
              "      <td>flat</td>\n",
              "      <td>Ikoyi</td>\n",
              "      <td>Lagos</td>\n",
              "    </tr>\n",
              "    <tr>\n",
              "      <th>99949</th>\n",
              "      <td>99949</td>\n",
              "      <td>2023-08-01</td>\n",
              "      <td>4 BEDROOM HOUSE FOR RENT</td>\n",
              "      <td>luxury 4 bedroom semi detached duplex + bq</td>\n",
              "      <td>Chevron Toll Gate, Lekki Lagos</td>\n",
              "      <td>4</td>\n",
              "      <td>Serviced &amp; Newly Built</td>\n",
              "      <td>₦</td>\n",
              "      <td>5000000</td>\n",
              "      <td>semi detached duplex</td>\n",
              "      <td>Chevron</td>\n",
              "      <td>Lagos</td>\n",
              "    </tr>\n",
              "  </tbody>\n",
              "</table>\n",
              "<p>97951 rows × 12 columns</p>\n",
              "</div>\n",
              "    <div class=\"colab-df-buttons\">\n",
              "\n",
              "  <div class=\"colab-df-container\">\n",
              "    <button class=\"colab-df-convert\" onclick=\"convertToInteractive('df-988bacc4-8aa0-4189-b3eb-ecfebbba7b8f')\"\n",
              "            title=\"Convert this dataframe to an interactive table.\"\n",
              "            style=\"display:none;\">\n",
              "\n",
              "  <svg xmlns=\"http://www.w3.org/2000/svg\" height=\"24px\" viewBox=\"0 -960 960 960\">\n",
              "    <path d=\"M120-120v-720h720v720H120Zm60-500h600v-160H180v160Zm220 220h160v-160H400v160Zm0 220h160v-160H400v160ZM180-400h160v-160H180v160Zm440 0h160v-160H620v160ZM180-180h160v-160H180v160Zm440 0h160v-160H620v160Z\"/>\n",
              "  </svg>\n",
              "    </button>\n",
              "\n",
              "  <style>\n",
              "    .colab-df-container {\n",
              "      display:flex;\n",
              "      gap: 12px;\n",
              "    }\n",
              "\n",
              "    .colab-df-convert {\n",
              "      background-color: #E8F0FE;\n",
              "      border: none;\n",
              "      border-radius: 50%;\n",
              "      cursor: pointer;\n",
              "      display: none;\n",
              "      fill: #1967D2;\n",
              "      height: 32px;\n",
              "      padding: 0 0 0 0;\n",
              "      width: 32px;\n",
              "    }\n",
              "\n",
              "    .colab-df-convert:hover {\n",
              "      background-color: #E2EBFA;\n",
              "      box-shadow: 0px 1px 2px rgba(60, 64, 67, 0.3), 0px 1px 3px 1px rgba(60, 64, 67, 0.15);\n",
              "      fill: #174EA6;\n",
              "    }\n",
              "\n",
              "    .colab-df-buttons div {\n",
              "      margin-bottom: 4px;\n",
              "    }\n",
              "\n",
              "    [theme=dark] .colab-df-convert {\n",
              "      background-color: #3B4455;\n",
              "      fill: #D2E3FC;\n",
              "    }\n",
              "\n",
              "    [theme=dark] .colab-df-convert:hover {\n",
              "      background-color: #434B5C;\n",
              "      box-shadow: 0px 1px 3px 1px rgba(0, 0, 0, 0.15);\n",
              "      filter: drop-shadow(0px 1px 2px rgba(0, 0, 0, 0.3));\n",
              "      fill: #FFFFFF;\n",
              "    }\n",
              "  </style>\n",
              "\n",
              "    <script>\n",
              "      const buttonEl =\n",
              "        document.querySelector('#df-988bacc4-8aa0-4189-b3eb-ecfebbba7b8f button.colab-df-convert');\n",
              "      buttonEl.style.display =\n",
              "        google.colab.kernel.accessAllowed ? 'block' : 'none';\n",
              "\n",
              "      async function convertToInteractive(key) {\n",
              "        const element = document.querySelector('#df-988bacc4-8aa0-4189-b3eb-ecfebbba7b8f');\n",
              "        const dataTable =\n",
              "          await google.colab.kernel.invokeFunction('convertToInteractive',\n",
              "                                                    [key], {});\n",
              "        if (!dataTable) return;\n",
              "\n",
              "        const docLinkHtml = 'Like what you see? Visit the ' +\n",
              "          '<a target=\"_blank\" href=https://colab.research.google.com/notebooks/data_table.ipynb>data table notebook</a>'\n",
              "          + ' to learn more about interactive tables.';\n",
              "        element.innerHTML = '';\n",
              "        dataTable['output_type'] = 'display_data';\n",
              "        await google.colab.output.renderOutput(dataTable, element);\n",
              "        const docLink = document.createElement('div');\n",
              "        docLink.innerHTML = docLinkHtml;\n",
              "        element.appendChild(docLink);\n",
              "      }\n",
              "    </script>\n",
              "  </div>\n",
              "\n",
              "\n",
              "<div id=\"df-7fb5a0a6-4ad5-4761-9c9d-c52818c73e9b\">\n",
              "  <button class=\"colab-df-quickchart\" onclick=\"quickchart('df-7fb5a0a6-4ad5-4761-9c9d-c52818c73e9b')\"\n",
              "            title=\"Suggest charts.\"\n",
              "            style=\"display:none;\">\n",
              "\n",
              "<svg xmlns=\"http://www.w3.org/2000/svg\" height=\"24px\"viewBox=\"0 0 24 24\"\n",
              "     width=\"24px\">\n",
              "    <g>\n",
              "        <path d=\"M19 3H5c-1.1 0-2 .9-2 2v14c0 1.1.9 2 2 2h14c1.1 0 2-.9 2-2V5c0-1.1-.9-2-2-2zM9 17H7v-7h2v7zm4 0h-2V7h2v10zm4 0h-2v-4h2v4z\"/>\n",
              "    </g>\n",
              "</svg>\n",
              "  </button>\n",
              "\n",
              "<style>\n",
              "  .colab-df-quickchart {\n",
              "    background-color: #E8F0FE;\n",
              "    border: none;\n",
              "    border-radius: 50%;\n",
              "    cursor: pointer;\n",
              "    display: none;\n",
              "    fill: #1967D2;\n",
              "    height: 32px;\n",
              "    padding: 0 0 0 0;\n",
              "    width: 32px;\n",
              "  }\n",
              "\n",
              "  .colab-df-quickchart:hover {\n",
              "    background-color: #E2EBFA;\n",
              "    box-shadow: 0px 1px 2px rgba(60, 64, 67, 0.3), 0px 1px 3px 1px rgba(60, 64, 67, 0.15);\n",
              "    fill: #174EA6;\n",
              "  }\n",
              "\n",
              "  [theme=dark] .colab-df-quickchart {\n",
              "    background-color: #3B4455;\n",
              "    fill: #D2E3FC;\n",
              "  }\n",
              "\n",
              "  [theme=dark] .colab-df-quickchart:hover {\n",
              "    background-color: #434B5C;\n",
              "    box-shadow: 0px 1px 3px 1px rgba(0, 0, 0, 0.15);\n",
              "    filter: drop-shadow(0px 1px 2px rgba(0, 0, 0, 0.3));\n",
              "    fill: #FFFFFF;\n",
              "  }\n",
              "</style>\n",
              "\n",
              "  <script>\n",
              "    async function quickchart(key) {\n",
              "      const charts = await google.colab.kernel.invokeFunction(\n",
              "          'suggestCharts', [key], {});\n",
              "    }\n",
              "    (() => {\n",
              "      let quickchartButtonEl =\n",
              "        document.querySelector('#df-7fb5a0a6-4ad5-4761-9c9d-c52818c73e9b button');\n",
              "      quickchartButtonEl.style.display =\n",
              "        google.colab.kernel.accessAllowed ? 'block' : 'none';\n",
              "    })();\n",
              "  </script>\n",
              "</div>\n",
              "    </div>\n",
              "  </div>\n"
            ]
          },
          "metadata": {},
          "execution_count": 425
        }
      ],
      "source": [
        "df.drop_duplicates()"
      ]
    },
    {
      "cell_type": "code",
      "execution_count": null,
      "metadata": {
        "id": "EIf8qLvr_Mo7"
      },
      "outputs": [],
      "source": [
        "pd.set_option('display.float_format', '{:.2f}'.format)"
      ]
    },
    {
      "cell_type": "code",
      "execution_count": null,
      "metadata": {
        "id": "UrxKGU5J-Ig-"
      },
      "outputs": [],
      "source": [
        "from sklearn.preprocessing import LabelEncoder"
      ]
    },
    {
      "cell_type": "code",
      "execution_count": null,
      "metadata": {
        "id": "yV7O1yRK-IdD"
      },
      "outputs": [],
      "source": [
        "\n",
        "le_furnished= LabelEncoder()\n",
        "df['Furnished'] = le_furnished.fit_transform(df['Furnished'])\n"
      ]
    },
    {
      "cell_type": "code",
      "execution_count": null,
      "metadata": {
        "id": "wdlo7JZQ-IYa"
      },
      "outputs": [],
      "source": [
        "le_pro = LabelEncoder()\n",
        "\n",
        "df['Property_type'] = le_pro.fit_transform(df['Property_type'])"
      ]
    },
    {
      "cell_type": "code",
      "execution_count": null,
      "metadata": {
        "id": "XjP61TJ--ITl"
      },
      "outputs": [],
      "source": [
        "\n",
        "le_loc = LabelEncoder()\n",
        "df['Loc'] = le_loc.fit_transform(df['Loc'])"
      ]
    },
    {
      "cell_type": "code",
      "execution_count": null,
      "metadata": {
        "id": "P8WOrdvR-ILf"
      },
      "outputs": [],
      "source": [
        "le_state= LabelEncoder()\n",
        "df['State']= le_state.fit_transform(df['State'])"
      ]
    },
    {
      "cell_type": "code",
      "execution_count": null,
      "metadata": {
        "id": "gMv0EjwxCAPw",
        "colab": {
          "base_uri": "https://localhost:8080/",
          "height": 310
        },
        "outputId": "ebb9e02b-d3e0-46f7-b181-53de1b114356"
      },
      "outputs": [
        {
          "output_type": "execute_result",
          "data": {
            "text/plain": [
              "   Unnamed: 0       Date                          Description  \\\n",
              "0           0 2023-07-26  1 BEDROOM FLAT / APARTMENT FOR RENT   \n",
              "1           1 2023-08-15  2 BEDROOM FLAT / APARTMENT FOR RENT   \n",
              "2           2 2023-08-04  1 BEDROOM FLAT / APARTMENT FOR RENT   \n",
              "3           3 2023-08-02             3 BEDROOM HOUSE FOR RENT   \n",
              "4           4 2023-08-02             1 BEDROOM HOUSE FOR RENT   \n",
              "\n",
              "                                   Type  \\\n",
              "0  1 ensuite room in a shared apartment   \n",
              "1                   2 bedroom apartment   \n",
              "2                    serviced mini flat   \n",
              "3            luxury 3 bedroom penthouse   \n",
              "4          serviced 1 bedroom apartment   \n",
              "\n",
              "                                            Location  Number Of Bedrooms  \\\n",
              "0                                Chevron Lekki Lagos                   1   \n",
              "1  Regent Park Estate, Oribanwa Phase 2, Off Epe ...                   2   \n",
              "2                           Osapa London Lekki Lagos                   1   \n",
              "3                               Phase 1, Lekki Lagos                   3   \n",
              "4                               Phase 1, Lekki Lagos                   1   \n",
              "\n",
              "   Furnished Currency     Price  Property_type  Loc  State  \n",
              "0          5        ₦    650000              6    3      1  \n",
              "1          2        ₦   1000000              1    2      1  \n",
              "2          5        ₦   2000000              3   12      1  \n",
              "3          5        ₦  11000000              4   13      1  \n",
              "4          5        ₦   4000000              1   13      1  "
            ],
            "text/html": [
              "\n",
              "  <div id=\"df-7e483094-a10c-4629-8f9a-be50f5084b9e\" class=\"colab-df-container\">\n",
              "    <div>\n",
              "<style scoped>\n",
              "    .dataframe tbody tr th:only-of-type {\n",
              "        vertical-align: middle;\n",
              "    }\n",
              "\n",
              "    .dataframe tbody tr th {\n",
              "        vertical-align: top;\n",
              "    }\n",
              "\n",
              "    .dataframe thead th {\n",
              "        text-align: right;\n",
              "    }\n",
              "</style>\n",
              "<table border=\"1\" class=\"dataframe\">\n",
              "  <thead>\n",
              "    <tr style=\"text-align: right;\">\n",
              "      <th></th>\n",
              "      <th>Unnamed: 0</th>\n",
              "      <th>Date</th>\n",
              "      <th>Description</th>\n",
              "      <th>Type</th>\n",
              "      <th>Location</th>\n",
              "      <th>Number Of Bedrooms</th>\n",
              "      <th>Furnished</th>\n",
              "      <th>Currency</th>\n",
              "      <th>Price</th>\n",
              "      <th>Property_type</th>\n",
              "      <th>Loc</th>\n",
              "      <th>State</th>\n",
              "    </tr>\n",
              "  </thead>\n",
              "  <tbody>\n",
              "    <tr>\n",
              "      <th>0</th>\n",
              "      <td>0</td>\n",
              "      <td>2023-07-26</td>\n",
              "      <td>1 BEDROOM FLAT / APARTMENT FOR RENT</td>\n",
              "      <td>1 ensuite room in a shared apartment</td>\n",
              "      <td>Chevron Lekki Lagos</td>\n",
              "      <td>1</td>\n",
              "      <td>5</td>\n",
              "      <td>₦</td>\n",
              "      <td>650000</td>\n",
              "      <td>6</td>\n",
              "      <td>3</td>\n",
              "      <td>1</td>\n",
              "    </tr>\n",
              "    <tr>\n",
              "      <th>1</th>\n",
              "      <td>1</td>\n",
              "      <td>2023-08-15</td>\n",
              "      <td>2 BEDROOM FLAT / APARTMENT FOR RENT</td>\n",
              "      <td>2 bedroom apartment</td>\n",
              "      <td>Regent Park Estate, Oribanwa Phase 2, Off Epe ...</td>\n",
              "      <td>2</td>\n",
              "      <td>2</td>\n",
              "      <td>₦</td>\n",
              "      <td>1000000</td>\n",
              "      <td>1</td>\n",
              "      <td>2</td>\n",
              "      <td>1</td>\n",
              "    </tr>\n",
              "    <tr>\n",
              "      <th>2</th>\n",
              "      <td>2</td>\n",
              "      <td>2023-08-04</td>\n",
              "      <td>1 BEDROOM FLAT / APARTMENT FOR RENT</td>\n",
              "      <td>serviced mini flat</td>\n",
              "      <td>Osapa London Lekki Lagos</td>\n",
              "      <td>1</td>\n",
              "      <td>5</td>\n",
              "      <td>₦</td>\n",
              "      <td>2000000</td>\n",
              "      <td>3</td>\n",
              "      <td>12</td>\n",
              "      <td>1</td>\n",
              "    </tr>\n",
              "    <tr>\n",
              "      <th>3</th>\n",
              "      <td>3</td>\n",
              "      <td>2023-08-02</td>\n",
              "      <td>3 BEDROOM HOUSE FOR RENT</td>\n",
              "      <td>luxury 3 bedroom penthouse</td>\n",
              "      <td>Phase 1, Lekki Lagos</td>\n",
              "      <td>3</td>\n",
              "      <td>5</td>\n",
              "      <td>₦</td>\n",
              "      <td>11000000</td>\n",
              "      <td>4</td>\n",
              "      <td>13</td>\n",
              "      <td>1</td>\n",
              "    </tr>\n",
              "    <tr>\n",
              "      <th>4</th>\n",
              "      <td>4</td>\n",
              "      <td>2023-08-02</td>\n",
              "      <td>1 BEDROOM HOUSE FOR RENT</td>\n",
              "      <td>serviced 1 bedroom apartment</td>\n",
              "      <td>Phase 1, Lekki Lagos</td>\n",
              "      <td>1</td>\n",
              "      <td>5</td>\n",
              "      <td>₦</td>\n",
              "      <td>4000000</td>\n",
              "      <td>1</td>\n",
              "      <td>13</td>\n",
              "      <td>1</td>\n",
              "    </tr>\n",
              "  </tbody>\n",
              "</table>\n",
              "</div>\n",
              "    <div class=\"colab-df-buttons\">\n",
              "\n",
              "  <div class=\"colab-df-container\">\n",
              "    <button class=\"colab-df-convert\" onclick=\"convertToInteractive('df-7e483094-a10c-4629-8f9a-be50f5084b9e')\"\n",
              "            title=\"Convert this dataframe to an interactive table.\"\n",
              "            style=\"display:none;\">\n",
              "\n",
              "  <svg xmlns=\"http://www.w3.org/2000/svg\" height=\"24px\" viewBox=\"0 -960 960 960\">\n",
              "    <path d=\"M120-120v-720h720v720H120Zm60-500h600v-160H180v160Zm220 220h160v-160H400v160Zm0 220h160v-160H400v160ZM180-400h160v-160H180v160Zm440 0h160v-160H620v160ZM180-180h160v-160H180v160Zm440 0h160v-160H620v160Z\"/>\n",
              "  </svg>\n",
              "    </button>\n",
              "\n",
              "  <style>\n",
              "    .colab-df-container {\n",
              "      display:flex;\n",
              "      gap: 12px;\n",
              "    }\n",
              "\n",
              "    .colab-df-convert {\n",
              "      background-color: #E8F0FE;\n",
              "      border: none;\n",
              "      border-radius: 50%;\n",
              "      cursor: pointer;\n",
              "      display: none;\n",
              "      fill: #1967D2;\n",
              "      height: 32px;\n",
              "      padding: 0 0 0 0;\n",
              "      width: 32px;\n",
              "    }\n",
              "\n",
              "    .colab-df-convert:hover {\n",
              "      background-color: #E2EBFA;\n",
              "      box-shadow: 0px 1px 2px rgba(60, 64, 67, 0.3), 0px 1px 3px 1px rgba(60, 64, 67, 0.15);\n",
              "      fill: #174EA6;\n",
              "    }\n",
              "\n",
              "    .colab-df-buttons div {\n",
              "      margin-bottom: 4px;\n",
              "    }\n",
              "\n",
              "    [theme=dark] .colab-df-convert {\n",
              "      background-color: #3B4455;\n",
              "      fill: #D2E3FC;\n",
              "    }\n",
              "\n",
              "    [theme=dark] .colab-df-convert:hover {\n",
              "      background-color: #434B5C;\n",
              "      box-shadow: 0px 1px 3px 1px rgba(0, 0, 0, 0.15);\n",
              "      filter: drop-shadow(0px 1px 2px rgba(0, 0, 0, 0.3));\n",
              "      fill: #FFFFFF;\n",
              "    }\n",
              "  </style>\n",
              "\n",
              "    <script>\n",
              "      const buttonEl =\n",
              "        document.querySelector('#df-7e483094-a10c-4629-8f9a-be50f5084b9e button.colab-df-convert');\n",
              "      buttonEl.style.display =\n",
              "        google.colab.kernel.accessAllowed ? 'block' : 'none';\n",
              "\n",
              "      async function convertToInteractive(key) {\n",
              "        const element = document.querySelector('#df-7e483094-a10c-4629-8f9a-be50f5084b9e');\n",
              "        const dataTable =\n",
              "          await google.colab.kernel.invokeFunction('convertToInteractive',\n",
              "                                                    [key], {});\n",
              "        if (!dataTable) return;\n",
              "\n",
              "        const docLinkHtml = 'Like what you see? Visit the ' +\n",
              "          '<a target=\"_blank\" href=https://colab.research.google.com/notebooks/data_table.ipynb>data table notebook</a>'\n",
              "          + ' to learn more about interactive tables.';\n",
              "        element.innerHTML = '';\n",
              "        dataTable['output_type'] = 'display_data';\n",
              "        await google.colab.output.renderOutput(dataTable, element);\n",
              "        const docLink = document.createElement('div');\n",
              "        docLink.innerHTML = docLinkHtml;\n",
              "        element.appendChild(docLink);\n",
              "      }\n",
              "    </script>\n",
              "  </div>\n",
              "\n",
              "\n",
              "<div id=\"df-4f173ffd-82ca-493f-9ebd-daa22eaea04e\">\n",
              "  <button class=\"colab-df-quickchart\" onclick=\"quickchart('df-4f173ffd-82ca-493f-9ebd-daa22eaea04e')\"\n",
              "            title=\"Suggest charts.\"\n",
              "            style=\"display:none;\">\n",
              "\n",
              "<svg xmlns=\"http://www.w3.org/2000/svg\" height=\"24px\"viewBox=\"0 0 24 24\"\n",
              "     width=\"24px\">\n",
              "    <g>\n",
              "        <path d=\"M19 3H5c-1.1 0-2 .9-2 2v14c0 1.1.9 2 2 2h14c1.1 0 2-.9 2-2V5c0-1.1-.9-2-2-2zM9 17H7v-7h2v7zm4 0h-2V7h2v10zm4 0h-2v-4h2v4z\"/>\n",
              "    </g>\n",
              "</svg>\n",
              "  </button>\n",
              "\n",
              "<style>\n",
              "  .colab-df-quickchart {\n",
              "    background-color: #E8F0FE;\n",
              "    border: none;\n",
              "    border-radius: 50%;\n",
              "    cursor: pointer;\n",
              "    display: none;\n",
              "    fill: #1967D2;\n",
              "    height: 32px;\n",
              "    padding: 0 0 0 0;\n",
              "    width: 32px;\n",
              "  }\n",
              "\n",
              "  .colab-df-quickchart:hover {\n",
              "    background-color: #E2EBFA;\n",
              "    box-shadow: 0px 1px 2px rgba(60, 64, 67, 0.3), 0px 1px 3px 1px rgba(60, 64, 67, 0.15);\n",
              "    fill: #174EA6;\n",
              "  }\n",
              "\n",
              "  [theme=dark] .colab-df-quickchart {\n",
              "    background-color: #3B4455;\n",
              "    fill: #D2E3FC;\n",
              "  }\n",
              "\n",
              "  [theme=dark] .colab-df-quickchart:hover {\n",
              "    background-color: #434B5C;\n",
              "    box-shadow: 0px 1px 3px 1px rgba(0, 0, 0, 0.15);\n",
              "    filter: drop-shadow(0px 1px 2px rgba(0, 0, 0, 0.3));\n",
              "    fill: #FFFFFF;\n",
              "  }\n",
              "</style>\n",
              "\n",
              "  <script>\n",
              "    async function quickchart(key) {\n",
              "      const charts = await google.colab.kernel.invokeFunction(\n",
              "          'suggestCharts', [key], {});\n",
              "    }\n",
              "    (() => {\n",
              "      let quickchartButtonEl =\n",
              "        document.querySelector('#df-4f173ffd-82ca-493f-9ebd-daa22eaea04e button');\n",
              "      quickchartButtonEl.style.display =\n",
              "        google.colab.kernel.accessAllowed ? 'block' : 'none';\n",
              "    })();\n",
              "  </script>\n",
              "</div>\n",
              "    </div>\n",
              "  </div>\n"
            ]
          },
          "metadata": {},
          "execution_count": 432
        }
      ],
      "source": [
        "df.head()"
      ]
    },
    {
      "cell_type": "code",
      "execution_count": null,
      "metadata": {
        "id": "tZrYvZaACP3f",
        "colab": {
          "base_uri": "https://localhost:8080/",
          "height": 310
        },
        "outputId": "14f4ed7c-415b-4269-c353-0a3b223089c6"
      },
      "outputs": [
        {
          "output_type": "execute_result",
          "data": {
            "text/plain": [
              "   Unnamed: 0       Date                          Description  \\\n",
              "0           0 2023-07-26  1 BEDROOM FLAT / APARTMENT FOR RENT   \n",
              "1           1 2023-08-15  2 BEDROOM FLAT / APARTMENT FOR RENT   \n",
              "2           2 2023-08-04  1 BEDROOM FLAT / APARTMENT FOR RENT   \n",
              "3           3 2023-08-02             3 BEDROOM HOUSE FOR RENT   \n",
              "4           4 2023-08-02             1 BEDROOM HOUSE FOR RENT   \n",
              "\n",
              "                                   Type  \\\n",
              "0  1 ensuite room in a shared apartment   \n",
              "1                   2 bedroom apartment   \n",
              "2                    serviced mini flat   \n",
              "3            luxury 3 bedroom penthouse   \n",
              "4          serviced 1 bedroom apartment   \n",
              "\n",
              "                                            Location  Number Of Bedrooms  \\\n",
              "0                                Chevron Lekki Lagos                   1   \n",
              "1  Regent Park Estate, Oribanwa Phase 2, Off Epe ...                   2   \n",
              "2                           Osapa London Lekki Lagos                   1   \n",
              "3                               Phase 1, Lekki Lagos                   3   \n",
              "4                               Phase 1, Lekki Lagos                   1   \n",
              "\n",
              "   Furnished Currency     Price  Property_type  Loc  State          ts  \n",
              "0          5        ₦    650000              6    3      1  1690329600  \n",
              "1          2        ₦   1000000              1    2      1  1692057600  \n",
              "2          5        ₦   2000000              3   12      1  1691107200  \n",
              "3          5        ₦  11000000              4   13      1  1690934400  \n",
              "4          5        ₦   4000000              1   13      1  1690934400  "
            ],
            "text/html": [
              "\n",
              "  <div id=\"df-d0062b01-ad4a-4cc9-962a-57e1c322acc1\" class=\"colab-df-container\">\n",
              "    <div>\n",
              "<style scoped>\n",
              "    .dataframe tbody tr th:only-of-type {\n",
              "        vertical-align: middle;\n",
              "    }\n",
              "\n",
              "    .dataframe tbody tr th {\n",
              "        vertical-align: top;\n",
              "    }\n",
              "\n",
              "    .dataframe thead th {\n",
              "        text-align: right;\n",
              "    }\n",
              "</style>\n",
              "<table border=\"1\" class=\"dataframe\">\n",
              "  <thead>\n",
              "    <tr style=\"text-align: right;\">\n",
              "      <th></th>\n",
              "      <th>Unnamed: 0</th>\n",
              "      <th>Date</th>\n",
              "      <th>Description</th>\n",
              "      <th>Type</th>\n",
              "      <th>Location</th>\n",
              "      <th>Number Of Bedrooms</th>\n",
              "      <th>Furnished</th>\n",
              "      <th>Currency</th>\n",
              "      <th>Price</th>\n",
              "      <th>Property_type</th>\n",
              "      <th>Loc</th>\n",
              "      <th>State</th>\n",
              "      <th>ts</th>\n",
              "    </tr>\n",
              "  </thead>\n",
              "  <tbody>\n",
              "    <tr>\n",
              "      <th>0</th>\n",
              "      <td>0</td>\n",
              "      <td>2023-07-26</td>\n",
              "      <td>1 BEDROOM FLAT / APARTMENT FOR RENT</td>\n",
              "      <td>1 ensuite room in a shared apartment</td>\n",
              "      <td>Chevron Lekki Lagos</td>\n",
              "      <td>1</td>\n",
              "      <td>5</td>\n",
              "      <td>₦</td>\n",
              "      <td>650000</td>\n",
              "      <td>6</td>\n",
              "      <td>3</td>\n",
              "      <td>1</td>\n",
              "      <td>1690329600</td>\n",
              "    </tr>\n",
              "    <tr>\n",
              "      <th>1</th>\n",
              "      <td>1</td>\n",
              "      <td>2023-08-15</td>\n",
              "      <td>2 BEDROOM FLAT / APARTMENT FOR RENT</td>\n",
              "      <td>2 bedroom apartment</td>\n",
              "      <td>Regent Park Estate, Oribanwa Phase 2, Off Epe ...</td>\n",
              "      <td>2</td>\n",
              "      <td>2</td>\n",
              "      <td>₦</td>\n",
              "      <td>1000000</td>\n",
              "      <td>1</td>\n",
              "      <td>2</td>\n",
              "      <td>1</td>\n",
              "      <td>1692057600</td>\n",
              "    </tr>\n",
              "    <tr>\n",
              "      <th>2</th>\n",
              "      <td>2</td>\n",
              "      <td>2023-08-04</td>\n",
              "      <td>1 BEDROOM FLAT / APARTMENT FOR RENT</td>\n",
              "      <td>serviced mini flat</td>\n",
              "      <td>Osapa London Lekki Lagos</td>\n",
              "      <td>1</td>\n",
              "      <td>5</td>\n",
              "      <td>₦</td>\n",
              "      <td>2000000</td>\n",
              "      <td>3</td>\n",
              "      <td>12</td>\n",
              "      <td>1</td>\n",
              "      <td>1691107200</td>\n",
              "    </tr>\n",
              "    <tr>\n",
              "      <th>3</th>\n",
              "      <td>3</td>\n",
              "      <td>2023-08-02</td>\n",
              "      <td>3 BEDROOM HOUSE FOR RENT</td>\n",
              "      <td>luxury 3 bedroom penthouse</td>\n",
              "      <td>Phase 1, Lekki Lagos</td>\n",
              "      <td>3</td>\n",
              "      <td>5</td>\n",
              "      <td>₦</td>\n",
              "      <td>11000000</td>\n",
              "      <td>4</td>\n",
              "      <td>13</td>\n",
              "      <td>1</td>\n",
              "      <td>1690934400</td>\n",
              "    </tr>\n",
              "    <tr>\n",
              "      <th>4</th>\n",
              "      <td>4</td>\n",
              "      <td>2023-08-02</td>\n",
              "      <td>1 BEDROOM HOUSE FOR RENT</td>\n",
              "      <td>serviced 1 bedroom apartment</td>\n",
              "      <td>Phase 1, Lekki Lagos</td>\n",
              "      <td>1</td>\n",
              "      <td>5</td>\n",
              "      <td>₦</td>\n",
              "      <td>4000000</td>\n",
              "      <td>1</td>\n",
              "      <td>13</td>\n",
              "      <td>1</td>\n",
              "      <td>1690934400</td>\n",
              "    </tr>\n",
              "  </tbody>\n",
              "</table>\n",
              "</div>\n",
              "    <div class=\"colab-df-buttons\">\n",
              "\n",
              "  <div class=\"colab-df-container\">\n",
              "    <button class=\"colab-df-convert\" onclick=\"convertToInteractive('df-d0062b01-ad4a-4cc9-962a-57e1c322acc1')\"\n",
              "            title=\"Convert this dataframe to an interactive table.\"\n",
              "            style=\"display:none;\">\n",
              "\n",
              "  <svg xmlns=\"http://www.w3.org/2000/svg\" height=\"24px\" viewBox=\"0 -960 960 960\">\n",
              "    <path d=\"M120-120v-720h720v720H120Zm60-500h600v-160H180v160Zm220 220h160v-160H400v160Zm0 220h160v-160H400v160ZM180-400h160v-160H180v160Zm440 0h160v-160H620v160ZM180-180h160v-160H180v160Zm440 0h160v-160H620v160Z\"/>\n",
              "  </svg>\n",
              "    </button>\n",
              "\n",
              "  <style>\n",
              "    .colab-df-container {\n",
              "      display:flex;\n",
              "      gap: 12px;\n",
              "    }\n",
              "\n",
              "    .colab-df-convert {\n",
              "      background-color: #E8F0FE;\n",
              "      border: none;\n",
              "      border-radius: 50%;\n",
              "      cursor: pointer;\n",
              "      display: none;\n",
              "      fill: #1967D2;\n",
              "      height: 32px;\n",
              "      padding: 0 0 0 0;\n",
              "      width: 32px;\n",
              "    }\n",
              "\n",
              "    .colab-df-convert:hover {\n",
              "      background-color: #E2EBFA;\n",
              "      box-shadow: 0px 1px 2px rgba(60, 64, 67, 0.3), 0px 1px 3px 1px rgba(60, 64, 67, 0.15);\n",
              "      fill: #174EA6;\n",
              "    }\n",
              "\n",
              "    .colab-df-buttons div {\n",
              "      margin-bottom: 4px;\n",
              "    }\n",
              "\n",
              "    [theme=dark] .colab-df-convert {\n",
              "      background-color: #3B4455;\n",
              "      fill: #D2E3FC;\n",
              "    }\n",
              "\n",
              "    [theme=dark] .colab-df-convert:hover {\n",
              "      background-color: #434B5C;\n",
              "      box-shadow: 0px 1px 3px 1px rgba(0, 0, 0, 0.15);\n",
              "      filter: drop-shadow(0px 1px 2px rgba(0, 0, 0, 0.3));\n",
              "      fill: #FFFFFF;\n",
              "    }\n",
              "  </style>\n",
              "\n",
              "    <script>\n",
              "      const buttonEl =\n",
              "        document.querySelector('#df-d0062b01-ad4a-4cc9-962a-57e1c322acc1 button.colab-df-convert');\n",
              "      buttonEl.style.display =\n",
              "        google.colab.kernel.accessAllowed ? 'block' : 'none';\n",
              "\n",
              "      async function convertToInteractive(key) {\n",
              "        const element = document.querySelector('#df-d0062b01-ad4a-4cc9-962a-57e1c322acc1');\n",
              "        const dataTable =\n",
              "          await google.colab.kernel.invokeFunction('convertToInteractive',\n",
              "                                                    [key], {});\n",
              "        if (!dataTable) return;\n",
              "\n",
              "        const docLinkHtml = 'Like what you see? Visit the ' +\n",
              "          '<a target=\"_blank\" href=https://colab.research.google.com/notebooks/data_table.ipynb>data table notebook</a>'\n",
              "          + ' to learn more about interactive tables.';\n",
              "        element.innerHTML = '';\n",
              "        dataTable['output_type'] = 'display_data';\n",
              "        await google.colab.output.renderOutput(dataTable, element);\n",
              "        const docLink = document.createElement('div');\n",
              "        docLink.innerHTML = docLinkHtml;\n",
              "        element.appendChild(docLink);\n",
              "      }\n",
              "    </script>\n",
              "  </div>\n",
              "\n",
              "\n",
              "<div id=\"df-21de4055-8933-47b6-b7dc-91b7ed30ed56\">\n",
              "  <button class=\"colab-df-quickchart\" onclick=\"quickchart('df-21de4055-8933-47b6-b7dc-91b7ed30ed56')\"\n",
              "            title=\"Suggest charts.\"\n",
              "            style=\"display:none;\">\n",
              "\n",
              "<svg xmlns=\"http://www.w3.org/2000/svg\" height=\"24px\"viewBox=\"0 0 24 24\"\n",
              "     width=\"24px\">\n",
              "    <g>\n",
              "        <path d=\"M19 3H5c-1.1 0-2 .9-2 2v14c0 1.1.9 2 2 2h14c1.1 0 2-.9 2-2V5c0-1.1-.9-2-2-2zM9 17H7v-7h2v7zm4 0h-2V7h2v10zm4 0h-2v-4h2v4z\"/>\n",
              "    </g>\n",
              "</svg>\n",
              "  </button>\n",
              "\n",
              "<style>\n",
              "  .colab-df-quickchart {\n",
              "    background-color: #E8F0FE;\n",
              "    border: none;\n",
              "    border-radius: 50%;\n",
              "    cursor: pointer;\n",
              "    display: none;\n",
              "    fill: #1967D2;\n",
              "    height: 32px;\n",
              "    padding: 0 0 0 0;\n",
              "    width: 32px;\n",
              "  }\n",
              "\n",
              "  .colab-df-quickchart:hover {\n",
              "    background-color: #E2EBFA;\n",
              "    box-shadow: 0px 1px 2px rgba(60, 64, 67, 0.3), 0px 1px 3px 1px rgba(60, 64, 67, 0.15);\n",
              "    fill: #174EA6;\n",
              "  }\n",
              "\n",
              "  [theme=dark] .colab-df-quickchart {\n",
              "    background-color: #3B4455;\n",
              "    fill: #D2E3FC;\n",
              "  }\n",
              "\n",
              "  [theme=dark] .colab-df-quickchart:hover {\n",
              "    background-color: #434B5C;\n",
              "    box-shadow: 0px 1px 3px 1px rgba(0, 0, 0, 0.15);\n",
              "    filter: drop-shadow(0px 1px 2px rgba(0, 0, 0, 0.3));\n",
              "    fill: #FFFFFF;\n",
              "  }\n",
              "</style>\n",
              "\n",
              "  <script>\n",
              "    async function quickchart(key) {\n",
              "      const charts = await google.colab.kernel.invokeFunction(\n",
              "          'suggestCharts', [key], {});\n",
              "    }\n",
              "    (() => {\n",
              "      let quickchartButtonEl =\n",
              "        document.querySelector('#df-21de4055-8933-47b6-b7dc-91b7ed30ed56 button');\n",
              "      quickchartButtonEl.style.display =\n",
              "        google.colab.kernel.accessAllowed ? 'block' : 'none';\n",
              "    })();\n",
              "  </script>\n",
              "</div>\n",
              "    </div>\n",
              "  </div>\n"
            ]
          },
          "metadata": {},
          "execution_count": 433
        }
      ],
      "source": [
        "df['ts'] = df.Date.values.astype(np.int64) // 10 ** 9\n",
        "df.head()"
      ]
    },
    {
      "cell_type": "code",
      "execution_count": null,
      "metadata": {
        "id": "KLFlvNJzCSOT"
      },
      "outputs": [],
      "source": [
        "df.drop(columns=['Unnamed: 0','Date', 'Description', 'Type', 'Location', 'Currency'], inplace=True)"
      ]
    },
    {
      "cell_type": "code",
      "execution_count": null,
      "metadata": {
        "id": "I6LFd_NV-IIj",
        "colab": {
          "base_uri": "https://localhost:8080/",
          "height": 581
        },
        "outputId": "ec5c348c-fcad-4236-a379-298080e92e1e"
      },
      "outputs": [
        {
          "output_type": "display_data",
          "data": {
            "text/plain": [
              "<Figure size 640x480 with 1 Axes>"
            ],
            "image/png": "[encoded data removed]"
          },
          "metadata": {}
        }
      ],
      "source": [
        "from sklearn.preprocessing import StandardScaler\n",
        "from sklearn.linear_model import Lasso\n",
        "X= df.drop(\"Price\", axis=1).values\n",
        "y = df[\"Price\"].values\n",
        "\n",
        "names = df.drop(\"Price\", axis=1).columns\n",
        "lasso = Lasso(alpha=0.1)\n",
        "lasso_coef= lasso.fit(X, y).coef_\n",
        "plt.bar(names, lasso_coef)\n",
        "plt.xticks(rotation=90)\n",
        "plt.show()"
      ]
    },
    {
      "cell_type": "code",
      "execution_count": null,
      "metadata": {
        "id": "4MS4SlFV-IGx"
      },
      "outputs": [],
      "source": [
        "df.drop(columns=['State'], inplace=True)"
      ]
    },
    {
      "cell_type": "code",
      "execution_count": null,
      "metadata": {
        "id": "zeolNWOS-H93"
      },
      "outputs": [],
      "source": [
        "from sklearn.linear_model import LinearRegression\n",
        "from sklearn.metrics import accuracy_score, mean_squared_error\n",
        "from sklearn.model_selection import train_test_split\n",
        "\n",
        "X_train, X_test, y_train,y_test = train_test_split(X,y,test_size=0.3, random_state=42)"
      ]
    },
    {
      "cell_type": "code",
      "execution_count": null,
      "metadata": {
        "id": "vlDJJCnGpu9I",
        "colab": {
          "base_uri": "https://localhost:8080/"
        },
        "outputId": "b6636439-ff61-41b2-e13c-53ba2dcf36c9"
      },
      "outputs": [
        {
          "output_type": "stream",
          "name": "stdout",
          "text": [
            "[[ 6167263.84364821  7205769.23076923  6136222.95261572  4375000.\n",
            "   6016375.          5533958.8377724   8121875.          7683333.33333333\n",
            "   6167263.84364821  6206923.07692308 30000000.          8208176.10062893\n",
            "  11000000.          5975421.94092827  5556277.05627706  6733125.86445366\n",
            "   6781818.18181818  5685357.9175705   5166666.66666667  5297297.2972973\n",
            "   8208176.10062893  5745454.54545455  9285714.28571429  4000000.\n",
            "   6398226.95035461  6366871.58469945  7683333.33333333  6725776.39751553\n",
            "   4568627.45098039  4554545.45454545  6126562.5         6196116.50485437\n",
            "   4600000.          1000000.          6366871.58469945  4375000.\n",
            "   8750000.          8750000.          5735398.2300885   8750000.\n",
            "   6800000.          5129032.25806452  3923684.21052632 12928571.42857143\n",
            "   6781818.18181818  6800000.          6978906.25        7683333.33333333\n",
            "   9784444.44444444  3000000.          6118493.15068493  5555677.65567766\n",
            "   6126562.5         6919240.50632911  1950000.          6329410.84299593\n",
            "   7037430.16759777  5166666.66666667  4000000.          6456544.90106545\n",
            "   5897077.50952986  5614255.76519916  6366871.58469945  3000000.\n",
            "   8877272.72727273  4384375.          5735398.2300885   6234664.53674121\n",
            "   7820833.33333333  4638188.97637795  5081944.44444444  5556277.05627706\n",
            "   5555677.65567766  5297297.2972973   6742105.26315789  5248148.14814815\n",
            "   1000000.          7381617.64705882  5248148.14814815  5166666.66666667\n",
            "   6702826.3795424   5580769.23076923  6553232.15940686  8750000.\n",
            "   1950000.          5818181.81818182  4696774.19354839  4375000.\n",
            "   6261473.60703812  8750000.          6458908.04597701  4365384.61538462\n",
            "   5614255.76519916  5166666.66666667  4132142.85714286  5981929.21236291\n",
            "   6366871.58469945  1000000.          5831398.41688654  6835714.28571429\n",
            "   4375000.          5905555.55555556  4500000.          6126562.5\n",
            "   4734482.75862069  6329410.84299593  8208176.10062893  5875241.93548387\n",
            "   5212500.          7280000.          6839895.47038328  7820833.33333333\n",
            "   5212500.          6810526.31578947  6810526.31578947 30000000.\n",
            "   2525000.          9550000.          5831398.41688654  4446124.03100775\n",
            "   6978906.25        5533958.8377724   4000000.          6553232.15940686\n",
            "  30000000.          4696774.19354839  4914285.71428571  6717912.77258567\n",
            "   8500000.          6704415.95441595  8877272.72727273  5556277.05627706\n",
            "   6234664.53674121  5545918.36734694  5611666.66666667  5735398.2300885\n",
            "   6781818.18181818  6225406.39748296  9550000.          1500000.\n",
            "   6167263.84364821  6380632.44569026  3705555.55555556  4375000.\n",
            "   7037430.16759777  4010526.31578947  1000000.          8127777.77777778\n",
            "   7280000.          5810270.27027027  6188927.63731473  5810270.27027027\n",
            "   5555677.65567766  4914285.71428571  5940384.61538462  4683333.33333333\n",
            "   2750000.          6092307.69230769  6357480.31496063  5224000.\n",
            "   4734482.75862069  7026146.78899083  7330000.          4446124.03100775\n",
            "   9000000.          1000000.          5905555.55555556  6717912.77258567\n",
            "   5649060.33630069  6742105.26315789  4446124.03100775  4446124.03100775\n",
            "   5129032.25806452  5580769.23076923  6456544.90106545  6715202.7027027\n",
            "   8750000.         30000000.          5757179.48717949  5897077.50952986\n",
            "   8750000.          5875241.93548387  7196724.89082969  6380632.44569026\n",
            "   8750000.          7196724.89082969  5481664.31593794  4000000.\n",
            "   6167263.84364821  6100000.          6261473.60703812  8754385.96491228\n",
            "   3705555.55555556  6717912.77258567  5670000.          6800000.\n",
            "   8877272.72727273  6733125.86445366  4600000.          6606343.28358209]]\n"
          ]
        }
      ],
      "source": [
        "from sklearn.ensemble import RandomForestRegressor\n",
        "from sklearn.model_selection import RandomizedSearchCV\n",
        "from copy import deepcopy\n",
        "import numpy as np\n",
        "import pandas as pd\n",
        "from datetime import datetime\n",
        "\n",
        "best_fit={}\n",
        "\n",
        "class RandomForestARModel():\n",
        "        # input randomized search to define the parameters that work\n",
        "    # best_fit={}\n",
        "\n",
        "    def random_forest_tuning(X_train, y_train):\n",
        "\n",
        "        model = RandomForestRegressor()\n",
        "        grid = {'n_estimators': [100, 200, 300, 400],\n",
        "              'max_depth': [2, 5, 8],\n",
        "              'max_features': ['sqrt', 'log2'],\n",
        "              'random_state': [42]}\n",
        "        random= RandomizedSearchCV(model, grid, cv=2)\n",
        "        random.fit(X_train, y_train)\n",
        "        best_fit= (random.best_params_)\n",
        "        return best_fit\n",
        "\n",
        "    def __init__(self, best_fit, n_lags=1, random_state=42):\n",
        "        self.n_lags = n_lags\n",
        "        self.model = RandomForestRegressor(**best_fit)\n",
        "\n",
        "    def fit(self, X_train, y_train):\n",
        "        train_df = pd.DataFrame(X_train)\n",
        "        self.train_df = deepcopy(train_df)\n",
        "\n",
        "        Xtrain = pd.concat([train_df.shift(t) for t in range(1, self.n_lags + 1)], axis=1).dropna()\n",
        "        self.Xtrain = Xtrain\n",
        "\n",
        "        y_df = pd.DataFrame(y_train)\n",
        "        ytrain = y_df.loc[Xtrain.index,:]\n",
        "        self.ytrain = ytrain\n",
        "\n",
        "        self.model.fit(Xtrain, ytrain.values.ravel())\n",
        "        return self.model\n",
        "\n",
        "    def sample_forecast(self,X_test, n_periods, n_samples, random_state):\n",
        "        n_samples = best_fit['n_estimators']\n",
        "        random_state = best_fit['random_state']\n",
        "        samples = self._perform_forecast(n_periods, n_samples, random_state )\n",
        "        output = self._retransform_forecast(samples, n_periods)\n",
        "        return output\n",
        "\n",
        "    def _perform_forecast(self, n_periods, n_samples, random_state):\n",
        "        samples = []\n",
        "        n_samples = best_fit['n_estimators']\n",
        "        random_state = best_fit['random_state']\n",
        "        # test_df = pd.DataFrame(X_test)\n",
        "        # self.test_df = deepcopy(test_df)\n",
        "        # X_test_lagged = pd.concat([test_df.shift(t) for t in range(1, self.n_lags + 1)], axis=1).dropna()\n",
        "\n",
        "        # y_test = pd.DataFrame(y_test)\n",
        "        # ytest = y_test.loc[X_test_lagged.index,:]\n",
        "\n",
        "\n",
        "        np.random.seed(random_state)\n",
        "\n",
        "        for i in range(n_samples):\n",
        "\n",
        "           Xf = np.concatenate([self.Xtrain.iloc[-1,1:].values.reshape(1,-1),\n",
        "                                 self.ytrain.iloc[-1].values.reshape(1,1)],1)\n",
        "           forecasts = []\n",
        "\n",
        "           for t in range(n_periods):\n",
        "                tree = self.model.estimators_[np.random.randint(len(self.model.estimators_))]\n",
        "                pred = tree.predict(Xf)[0]\n",
        "                forecasts.append(pred)\n",
        "\n",
        "                Xf = np.concatenate([Xf[:, 1:], np.array([[pred]])], 1)\n",
        "                samples.append(forecasts)\n",
        "\n",
        "        return samples\n",
        "\n",
        "    def _retransform_forecast(self, samples, n_periods):\n",
        "        full_sample_tree = []\n",
        "\n",
        "        for samp in samples:\n",
        "            draw = np.array(samp)\n",
        "            result = draw\n",
        "\n",
        "            full_sample_tree.append(result.reshape(-1, 1))\n",
        "\n",
        "        return np.concatenate(full_sample_tree, 1)\n",
        "\n",
        "n_periods = 1\n",
        "# today = datetime.now().date()\n",
        "\n",
        "# # next_month = today.replace(month=today.month + 3)\n",
        "# timestamp_mon = int(datetime.combine(today, datetime.min.time()).timestamp())\n",
        "# X_mon = np.array([[5, 'terrace duplex', 'Chevron Lekki', timestamp_mon]])\n",
        "# X_mon[:, 1] = le_pro.transform(X_mon[:, 1])\n",
        "# X_mon[:, 2] = le_loc.transform(X_mon[:, 2])\n",
        "# X_mon = X_mon.astype(int)\n",
        "\n",
        "best_fit = RandomForestARModel.random_forest_tuning(X_train, y_train)\n",
        "model = RandomForestARModel(best_fit, n_lags=3)\n",
        "model.fit(X_train,y_train)\n",
        "random_state = best_fit['random_state']\n",
        "n_sample = best_fit['n_estimators']\n",
        "forecast_samples = model.sample_forecast(X_test, n_periods,n_sample, random_state)\n",
        "print(forecast_samples)\n"
      ]
    },
    {
      "cell_type": "code",
      "source": [
        "today = datetime.now().date()\n",
        "today_year = today.year\n",
        "today_month = today.month\n",
        "today_day = today.day\n",
        "d_day = datetime(today_year, today_month, today_day)\n",
        "\n",
        "next = today.replace(month=today.month + 3)\n",
        "next_year = next.year\n",
        "next_mon = next.month\n",
        "next_day = next.day\n",
        "future = datetime(next_year, next_mon, next_day)\n",
        "difference = future - d_day\n",
        "n_periods = difference.days - 2\n",
        "\n",
        "timestamp_mon = int(datetime.combine(next, datetime.min.time()).timestamp())\n",
        "X_mon = np.array([[5, 'Serviced & Newly Built', 'terrace duplex', 'Chevron', timestamp_mon]])\n",
        "X_mon[:, 1] = le_furnished.transform(X_mon[:,1])\n",
        "X_mon[:, 2] = le_pro.transform(X_mon[:, 2])\n",
        "X_mon[:, 3] = le_loc.transform(X_mon[:, 3])\n",
        "X_mon = X_mon.astype(int)\n",
        "\n",
        "\n",
        "forecast_three = model.sample_forecast(X_mon, n_periods,n_sample, random_state)\n",
        "means_three = np.mean(forecast_three,axis = 1)\n",
        "lowers_ = np.quantile(forecast_three,0.05,1)\n",
        "uppers_ = np.quantile(forecast_three,0.95,1)\n",
        "\n",
        "# print(forecast_[0])\n",
        "print(np.mean((means_three)))\n",
        "print(min(lowers_))\n",
        "print(max(uppers_))\n",
        "print(n_periods)\n",
        "\n",
        "rmse_three = np.sqrt(np.mean((forecast_three - means_three[:, np.newaxis])**2, axis=0))\n",
        "print(np.mean(rmse_three))\n",
        "\n",
        "# mean for today\n",
        "# mean in 90 dates\n",
        "# mean in 30 days\n",
        "# mean in 60 days\n",
        "# train and test date\n",
        "# rmse result\n",
        "# each mean value for"
      ],
      "metadata": {
        "colab": {
          "base_uri": "https://localhost:8080/"
        },
        "id": "4rkczsyDcWVv",
        "outputId": "f260a384-4086-4c27-a84f-d203897572bc"
      },
      "execution_count": null,
      "outputs": [
        {
          "output_type": "stream",
          "name": "stdout",
          "text": [
            "6523576.048449247\n",
            "1285000.0000000137\n",
            "17185416.66666579\n",
            "90\n",
            "2770224.5786298783\n"
          ]
        }
      ]
    },
    {
      "cell_type": "code",
      "source": [
        "today = datetime.now().date()\n",
        "today_year = today.year\n",
        "today_month = today.month\n",
        "today_day = today.day\n",
        "d_day = datetime(today_year, today_month, today_day)\n",
        "\n",
        "next = today.replace(month=today.month + 2)\n",
        "next_year = next.year\n",
        "next_mon = next.month\n",
        "next_day = next.day\n",
        "future = datetime(next_year, next_mon, next_day)\n",
        "difference = future - d_day\n",
        "n_periods = difference.days - 1\n",
        "\n",
        "X_mon = np.array([[5, 'Serviced & Newly Built', 'terrace duplex', 'Chevron', timestamp_mon]])\n",
        "X_mon[:, 1] = le_furnished.transform(X_mon[:,1])\n",
        "X_mon[:, 2] = le_pro.transform(X_mon[:, 2])\n",
        "X_mon[:, 3] = le_loc.transform(X_mon[:, 3])\n",
        "X_mon = X_mon.astype(int)\n",
        "\n",
        "\n",
        "forecast_two = model.sample_forecast(X_mon, n_periods,n_sample, random_state)\n",
        "means_two = np.mean(forecast_two,1)\n",
        "lowers_ = np.quantile(forecast_two,0.05,1)\n",
        "uppers_ = np.quantile(forecast_two,0.95,1)\n",
        "\n",
        "# print(forecast_two)\n",
        "print(np.mean((means_two)))\n",
        "print(min(lowers_))\n",
        "print(max(uppers_))\n",
        "print(n_periods)"
      ],
      "metadata": {
        "colab": {
          "base_uri": "https://localhost:8080/"
        },
        "id": "sT8_j49mdQSe",
        "outputId": "102acd73-fde1-40a9-878d-d7f44f06765a"
      },
      "execution_count": null,
      "outputs": [
        {
          "output_type": "stream",
          "name": "stdout",
          "text": [
            "6512111.37940156\n",
            "1000000.0\n",
            "15437500.0\n",
            "60\n"
          ]
        }
      ]
    },
    {
      "cell_type": "code",
      "source": [
        "today = datetime.now().date()\n",
        "today_year = today.year\n",
        "today_month = today.month\n",
        "today_day = today.day\n",
        "d_day = datetime(today_year, today_month, today_day)\n",
        "\n",
        "next = today.replace(month=today.month + 1)\n",
        "next_year = next.year\n",
        "next_mon = next.month\n",
        "next_day = next.day\n",
        "future = datetime(next_year, next_mon, next_day)\n",
        "difference = future - d_day\n",
        "n_periods = difference.days - 1\n",
        "\n",
        "X_mon = np.array([[5, 'Serviced & Newly Built', 'terrace duplex', 'Chevron', timestamp_mon]])\n",
        "X_mon[:, 1] = le_furnished.transform(X_mon[:,1])\n",
        "X_mon[:, 2] = le_pro.transform(X_mon[:, 2])\n",
        "X_mon[:, 3] = le_loc.transform(X_mon[:, 3])\n",
        "X_mon = X_mon.astype(int)\n",
        "\n",
        "\n",
        "forecast_ = model.sample_forecast(X_mon, n_periods,n_sample, random_state)\n",
        "means_one = np.mean(forecast_,1)\n",
        "lowers_ = np.quantile(forecast_,0.05,1)\n",
        "uppers_ = np.quantile(forecast_,0.95,1)\n",
        "rmse_one = np.sqrt(np.mean((forecast_ - means_one[:, np.newaxis])**2, axis=0))\n",
        "\n",
        "# print(forecast_[0])\n",
        "print(np.mean((means_one)))\n",
        "print(min(lowers_))\n",
        "print(max(uppers_))\n",
        "print(n_periods)\n",
        "print(np.mean(rmse_one))"
      ],
      "metadata": {
        "colab": {
          "base_uri": "https://localhost:8080/"
        },
        "id": "hb3h-9Ikdaqi",
        "outputId": "4d3328af-3eda-4c67-84cf-50528ff334a8"
      },
      "execution_count": null,
      "outputs": [
        {
          "output_type": "stream",
          "name": "stdout",
          "text": [
            "6446050.883465845\n",
            "1284999.9999999965\n",
            "16507500.000000117\n",
            "30\n",
            "2584438.675687549\n"
          ]
        }
      ]
    }
  ],
  "metadata": {
    "colab": {
      "provenance": []
    },
    "kernelspec": {
      "display_name": "Python 3",
      "name": "python3"
    },
    "language_info": {
      "name": "python"
    }
  },
  "nbformat": 4,
  "nbformat_minor": 0
}